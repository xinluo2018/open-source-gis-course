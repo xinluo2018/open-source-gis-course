{
 "cells": [
  {
   "cell_type": "code",
   "execution_count": 10,
   "metadata": {},
   "outputs": [],
   "source": [
    "from pprint import pprint \n",
    "import random \n"
   ]
  },
  {
   "cell_type": "code",
   "execution_count": 164,
   "metadata": {},
   "outputs": [],
   "source": [
    "num_group = 3 \n",
    "students_boy = ['袁志勇','唐帅','李子贤','聂宗举',\n",
    "                '陈会登','刘子龙','曾于嘉','张国玺',\n",
    "                '伍陈杰','张涵涛','杨海超','常智辉','郭鑫麟']\n",
    "\n",
    "students_girl = ['熊程锦','刘奕菲']\n",
    "random.shuffle(students_boy)\n",
    "random.shuffle(students_girl)\n",
    "# print(students_boy)\n",
    "# print(students_girl)\n"
   ]
  },
  {
   "cell_type": "code",
   "execution_count": 165,
   "metadata": {},
   "outputs": [
    {
     "name": "stdout",
     "output_type": "stream",
     "text": [
      "[[], [], []]\n"
     ]
    }
   ],
   "source": [
    "students_group = []\n",
    "for i in range(num_group):\n",
    "    students_group.append([])\n",
    "print(students_group)\n"
   ]
  },
  {
   "cell_type": "code",
   "execution_count": 166,
   "metadata": {},
   "outputs": [],
   "source": [
    "i = 0\n",
    "for boy in students_boy:\n",
    "    students_group[i].append(boy)    \n",
    "    i = i+1\n",
    "    if i>num_group-1: i=0\n",
    "\n",
    "for girl in students_girl:\n",
    "    students_group[i].append(girl)    \n",
    "    i = i+1\n",
    "    if i>num_group-1: i=0\n"
   ]
  },
  {
   "cell_type": "code",
   "execution_count": null,
   "metadata": {},
   "outputs": [
    {
     "name": "stdout",
     "output_type": "stream",
     "text": [
      "[['陈会登', '李子贤', '伍陈杰', '曾于嘉', '张涵涛'],\n",
      " ['张国玺', '袁志勇', '聂宗举', '刘子龙', '熊程锦'],\n",
      " ['杨海超', '常智辉', '郭鑫麟', '唐帅', '刘奕菲']]\n"
     ]
    }
   ],
   "source": [
    "pprint(students_group)\n",
    "\n"
   ]
  }
 ],
 "metadata": {
  "kernelspec": {
   "display_name": "venv",
   "language": "python",
   "name": "python3"
  },
  "language_info": {
   "codemirror_mode": {
    "name": "ipython",
    "version": 3
   },
   "file_extension": ".py",
   "mimetype": "text/x-python",
   "name": "python",
   "nbconvert_exporter": "python",
   "pygments_lexer": "ipython3",
   "version": "3.9.18"
  }
 },
 "nbformat": 4,
 "nbformat_minor": 2
}
