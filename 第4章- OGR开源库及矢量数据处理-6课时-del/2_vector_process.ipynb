{
 "cells": [
  {
   "attachments": {},
   "cell_type": "markdown",
   "metadata": {},
   "source": [
    "#### **利用ogr开源库进行矢量数据处理**\n",
    "**1. 投影转换**  \n",
    "**2. 计算面要素的面积信息，添加面积字段/删除面积字段**  \n",
    "**3. 获取面要素中心点，新建中心点图层**  \n",
    "**4. 根据地理信息新建面要素**  \n"
   ]
  },
  {
   "cell_type": "code",
   "execution_count": 1,
   "metadata": {},
   "outputs": [],
   "source": [
    "from osgeo import ogr\n"
   ]
  },
  {
   "cell_type": "code",
   "execution_count": 2,
   "metadata": {},
   "outputs": [],
   "source": [
    "path_kunming_wgs84 = 'data/Section-2/kunming_wgs84.gpkg'\n"
   ]
  },
  {
   "attachments": {},
   "cell_type": "markdown",
   "metadata": {},
   "source": [
    "### 1. Re-project the vector to utm projection.\n",
    "EPSG是European Petroleum Survey Group (欧洲石油调查小组)的缩写,该组织发布了一个坐标参照系统的数据集,数据集对全球收录到的坐标参照系统进行了编码。  \n",
    "wgs84: 4326; \n",
    "wgs84+utm: 北半球：326+投影带（如32622）；南半球：327+投影带（32722）   \n",
    "备注：gdal3.6.2对gpkg格式坐标系统写入支持不是很好。\n"
   ]
  },
  {
   "cell_type": "code",
   "execution_count": 3,
   "metadata": {},
   "outputs": [
    {
     "name": "stdout",
     "output_type": "stream",
     "text": [
      "<osgeo.osr.CoordinateTransformation; proxy of <Swig Object of type 'OSRCoordinateTransformationShadow *' at 0x0000025CC5BEBD80> >\n"
     ]
    }
   ],
   "source": [
    "#### Reprojection\n",
    "## 1.读入待投影数据\n",
    "path_kunming_utm48 = 'data/Section-4/kunming_utm48.gpkg'\n",
    "utm_epsg = 32648\n",
    "in_ds = ogr.Open(path_kunming_wgs84)\n",
    "in_layer = in_ds.GetLayer(0)\n",
    "\n",
    "## 2.创建新的空间参考\n",
    "utm_spatialRef = ogr.osr.SpatialReference()\n",
    "utm_spatialRef.ImportFromEPSG(utm_epsg)\n",
    "\n",
    "## 3.创建写出数据及矢量图层\n",
    "driver = ogr.GetDriverByName('GPKG')\n",
    "out_ds = driver.CreateDataSource(path_kunming_utm48)\n",
    "out_layer = out_ds.CreateLayer('kunming_utm48', geom_type = ogr.wkbPolygon, srs=utm_spatialRef)\n",
    "# print(out_layer)\n",
    "\n",
    "## 4. 创建投影转换对象，并进行投影转换\n",
    "spatialRef = in_layer.GetSpatialRef()\n",
    "coordinate_transform = ogr.osr.CoordinateTransformation(spatialRef, utm_spatialRef)\n",
    "print(coordinate_transform)\n",
    "\n",
    "## 在图层上创建属性字段\n",
    "for i in range(in_layer.GetFeature(1).GetFieldCount()):\n",
    "  field_defn = in_layer.GetFeature(1).GetFieldDefnRef(i)  \n",
    "  out_layer.CreateField(field_defn)\n",
    "\n",
    "## 获得要素定义(创建要素时需要)\n",
    "FeaDefn = in_layer.GetLayerDefn()\n",
    "### 遍历每个要素\n",
    "for i in range(in_layer.GetFeatureCount()):\n",
    "  in_fea = in_layer.GetFeature(i+1)\n",
    "  in_geo = in_fea.geometry()            ## 获得原矢量要素的几何\n",
    "  in_geo.Transform(coordinate_transform)\n",
    "  out_fea = ogr.Feature(FeaDefn)        ## 定义输出要素\n",
    "  out_fea.SetGeometry(in_geo)           ## 在输出要素中添加几何\n",
    "  ### 遍历每个属性字段\n",
    "  for j in range(FeaDefn.GetFieldCount()):\n",
    "    field_value = in_fea.GetField(j)\n",
    "    out_fea.SetField(j, field_value)    ## 在输出要素中添加输出属性\n",
    "  out_layer.CreateFeature(out_fea)\n",
    "ds = None\n",
    "out_ds = None\n"
   ]
  },
  {
   "attachments": {},
   "cell_type": "markdown",
   "metadata": {},
   "source": [
    "#### 2. 添加/删除面积字段，并计算面积"
   ]
  },
  {
   "cell_type": "code",
   "execution_count": 4,
   "metadata": {},
   "outputs": [],
   "source": [
    "### 删除字段\n",
    "ds = ogr.Open(path_kunming_utm48, 1)  ## 0是只读，1是可写\n",
    "layer = ds.GetLayer(0)\n",
    "id_field = layer.GetFeature(1).GetFieldIndex('dt_adcode')\n",
    "layer.DeleteField(id_field)   ## 删除字段，参数只能是索引\n",
    "ds = None    ### 关闭数据源（重要）\n"
   ]
  },
  {
   "cell_type": "code",
   "execution_count": 5,
   "metadata": {},
   "outputs": [
    {
     "name": "stdout",
     "output_type": "stream",
     "text": [
      "Area is:  388.68132965333547\n",
      "Area is:  864.295296736931\n",
      "Area is:  638.33361729476\n",
      "Area is:  887.0758120914002\n",
      "Area is:  1866.1175875335928\n",
      "Area is:  499.36396388766826\n",
      "Area is:  1338.5644973111446\n",
      "Area is:  994.1854960593394\n",
      "Area is:  1914.092175416861\n",
      "Area is:  1681.4133762503427\n",
      "Area is:  828.4756858595103\n",
      "Area is:  4227.121468713026\n",
      "Area is:  3598.3429000372294\n",
      "Area is:  1301.1314514651406\n"
     ]
    }
   ],
   "source": [
    "### 新建字段并计算(以面积为例)\n",
    "ds = ogr.Open(path_kunming_utm48, 1)  ## 0是只读，1是可写\n",
    "layer = ds.GetLayer(0)\n",
    "field_defn = ogr.FieldDefn('Area', ogr.OFTReal)   ## OFTReal：浮点型；OFTInteger: 整型\n",
    "layer.CreateField(field_defn)       ## 创建新字段\n",
    "area_districts, name_districts = [], []  ## 用于保存要素名和区名\n",
    "### 遍历每一个要素\n",
    "for i in range(layer.GetFeatureCount()):\n",
    "  fea = layer.GetFeature(i+1)   ###\n",
    "  fea_area = fea.geometry().Area()\n",
    "  fea_area = fea_area/1000000      ### 单位：千米\n",
    "  area_districts.append(fea_area)\n",
    "  fea_name = fea.GetField('dt_name')\n",
    "  name_districts.append(fea_name)\n",
    "  print('Area is: ', fea_area)\n",
    "  fea.SetField('Area(km2)', fea_area)   ## 对面积字段Field赋值\n",
    "  layer.SetFeature(fea)  ## 更新特征\n",
    "ds = None    ### 关闭数据源（重要）\n"
   ]
  },
  {
   "cell_type": "code",
   "execution_count": 10,
   "metadata": {},
   "outputs": [
    {
     "data": {
      "text/plain": [
       "<BarContainer object of 14 artists>"
      ]
     },
     "execution_count": 10,
     "metadata": {},
     "output_type": "execute_result"
    },
    {
     "data": {
      "image/png": "[encoded data removed]",
      "text/plain": [
       "<Figure size 1200x300 with 1 Axes>"
      ]
     },
     "metadata": {},
     "output_type": "display_data"
    }
   ],
   "source": [
    "import matplotlib.pyplot as plt\n",
    "### 柱状图\n",
    "fig, ax = plt.subplots(1,1, figsize=(12,3))\n",
    "ax.bar(name_districts, area_districts, width=0.5, color='red')\n"
   ]
  },
  {
   "attachments": {},
   "cell_type": "markdown",
   "metadata": {},
   "source": [
    "#### 3. 获取面要素中心点，新建中心点图层"
   ]
  },
  {
   "cell_type": "code",
   "execution_count": 11,
   "metadata": {},
   "outputs": [],
   "source": [
    "path_kunming_districts_centroid = 'data/Section-4/kunming_utm48_centroid.gpkg'\n",
    "in_ds = ogr.Open(path_kunming_utm48, 0)   ## 0是只读，1是可写\n",
    "in_layer = in_ds.GetLayer(0); \n",
    "### 1. 创建新矢量文件\n",
    "## 获取空间参考（创建图层需要）\n",
    "in_SpatialRef = in_layer.GetSpatialRef()\n",
    "driver = ogr.GetDriverByName('GPKG')\n",
    "out_ds = driver.CreateDataSource(path_kunming_districts_centroid)\n",
    "out_layer = out_ds.CreateLayer('kunming_utm48_centroid', geom_type=ogr.wkbPoint, srs=in_SpatialRef)  # create new layer in the shapefile \n",
    "field_defn = ogr.FieldDefn('Fid', ogr.OFTInteger)    ## 定义属性字段\n",
    "out_layer.CreateField(field_defn)          ## 创建新字段\n",
    "out_fea_defn = out_layer.GetLayerDefn()    ## 要素定义（等同于图层定义），创建要素需要\n",
    "## 2. 遍历面要素并获取中心点\n",
    "for i in range(in_layer.GetFeatureCount()):\n",
    "  in_fea = in_layer.GetFeature(i+1)\n",
    "  out_geo = in_fea.geometry().Centroid()   ## 获得中心点几何\n",
    "  out_fea = ogr.Feature(out_fea_defn)      ## 创建空要素\n",
    "  out_fea.SetGeometry(out_geo)             ## 设置要素几何\n",
    "  out_fea.SetField('Fid', i+1)             ## 设置字段值\n",
    "  out_layer.CreateFeature(out_fea)         ## 在图层中创建要素。\n",
    "out_ds = None                              ## 关闭数据源\n",
    "ds = None\n",
    "\n"
   ]
  },
  {
   "attachments": {},
   "cell_type": "markdown",
   "metadata": {},
   "source": [
    "#### 4. 新建几何及多要素图层\n",
    "云大呈贡校园范围（(102.837, 24.832), (102.842, 24.836), (102.849, 24.836), (102.857, 24.835), (102.864, 24.828),(102.855, 24.826), (102.845, 24.821),(102.837, 24.832)）  \n",
    "wkt(OGC well-known text)和wkb(OGC well-known binary)是OGC制定的空间数据的组织规范，wkt是以文本形式描述，wkb是以二进制形式描述。   \n",
    "示例:  \n",
    "Point: POINT (100 30)  \n",
    "LineString: LINESTRING (120 10, 100 30, 90 20, 70 40)  \n",
    "Polygon: POLYGON ((130 10, -140 40, 120 40, 110 20, 115 10))  "
   ]
  },
  {
   "cell_type": "code",
   "execution_count": 12,
   "metadata": {},
   "outputs": [],
   "source": [
    "path_ynu_vector = 'data/Section-4/ynu_vec.gpkg'\n",
    "### Create polygon by define wkt=\n",
    "ynu_wkt = \"POLYGON ((102.837 24.832, 102.842 24.836,102.849 24.836,102.857 24.835,102.864 24.828,102.855 24.826,102.845 24.821,102.837 24.832))\"\n",
    "geo_ynu = ogr.CreateGeometryFromWkt(ynu_wkt)\n",
    "SpatialRef = ogr.osr.SpatialReference()   ## create spatial reference object\n",
    "SpatialRef.ImportFromEPSG(4326)       ## set it to EPSG:4326\n",
    "### 创建输出矢量数据\n",
    "driver = ogr.GetDriverByName('GPKG')\n",
    "ds_ynu = driver.CreateDataSource(path_ynu_vector)\n",
    "layer_ynu = ds_ynu.CreateLayer('ynu_vec', srs=SpatialRef, geom_type=ogr.wkbPolygon)\n",
    "field_defn = ogr.FieldDefn('Fid', ogr.OFTInteger)  ## 字段定义\n",
    "layer_ynu.CreateField(field_defn)   ## 创建属性字段\n",
    "fea_defn = layer_ynu.GetLayerDefn()\n",
    "fea_ynu = ogr.Feature(fea_defn)     ## 定义要素\n",
    "fea_ynu.SetField('Fid', 1)\n",
    "fea_ynu.SetGeometry(geo_ynu)\n",
    "layer_ynu.CreateFeature(fea_ynu)\n",
    "ds_ynu = None\n",
    "\n"
   ]
  },
  {
   "cell_type": "code",
   "execution_count": null,
   "metadata": {},
   "outputs": [],
   "source": [
    "\n",
    "\n",
    "\n"
   ]
  }
 ],
 "metadata": {
  "kernelspec": {
   "display_name": "venv",
   "language": "python",
   "name": "python3"
  },
  "language_info": {
   "codemirror_mode": {
    "name": "ipython",
    "version": 3
   },
   "file_extension": ".py",
   "mimetype": "text/x-python",
   "name": "python",
   "nbconvert_exporter": "python",
   "pygments_lexer": "ipython3",
   "version": "3.9.18"
  },
  "orig_nbformat": 4
 },
 "nbformat": 4,
 "nbformat_minor": 2
}
