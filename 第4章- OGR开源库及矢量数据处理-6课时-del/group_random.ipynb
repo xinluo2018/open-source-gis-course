{
 "cells": [
  {
   "cell_type": "code",
   "execution_count": 67,
   "metadata": {},
   "outputs": [],
   "source": [
    "import numpy as np\n",
    "import random\n",
    "from pprint import pprint \n"
   ]
  },
  {
   "cell_type": "code",
   "execution_count": 68,
   "metadata": {},
   "outputs": [
    {
     "name": "stdout",
     "output_type": "stream",
     "text": [
      "boy: ['伍陈杰', '张国玺', '李子贤', '杨海超', '曾于嘉', '聂宗举', '陈会登', '唐帅', '张涵涛', '郭鑫麟', '常智辉', '袁志勇', '刘子龙']\n",
      "girl: ['刘奕菲', '熊程锦']\n"
     ]
    }
   ],
   "source": [
    "num_group = 3\n",
    "\n",
    "students_boy = ['袁志勇', '唐帅', '李子贤', '聂宗举', \n",
    "                '陈会登', '刘子龙', '曾于嘉', '张国玺', \n",
    "                '伍陈杰', '张涵涛', '杨海超', '常智辉', '郭鑫麟']\n",
    "students_girl = ['熊程锦', '刘奕菲']\n",
    "random.shuffle(students_boy)\n",
    "random.shuffle(students_girl)\n",
    "print('boy:', students_boy)\n",
    "print('girl:', students_girl)\n"
   ]
  },
  {
   "cell_type": "code",
   "execution_count": 70,
   "metadata": {},
   "outputs": [
    {
     "name": "stdout",
     "output_type": "stream",
     "text": [
      "[[], [], []]\n"
     ]
    }
   ],
   "source": [
    "students_groups = []\n",
    "for i in range(num_group):\n",
    "    students_groups.append([])\n",
    "print(students_groups)"
   ]
  },
  {
   "cell_type": "code",
   "execution_count": null,
   "metadata": {},
   "outputs": [],
   "source": [
    "i = 0\n",
    "for boy in students_boy:\n",
    "    print(boy)\n",
    "    students_groups[i].append(boy)\n",
    "    i = i+1\n",
    "    if i>num_group-1: \n",
    "        i = 0\n",
    "print(i)\n",
    "\n",
    "for girl in students_girl:\n",
    "    print(girl)\n",
    "    students_groups[i].append(girl)\n",
    "    i = i+1\n",
    "    if i>num_group-1: \n",
    "        i = 0\n"
   ]
  },
  {
   "cell_type": "code",
   "execution_count": 72,
   "metadata": {},
   "outputs": [
    {
     "name": "stdout",
     "output_type": "stream",
     "text": [
      "[['伍陈杰', '杨海超', '陈会登', '郭鑫麟', '刘子龙'],\n",
      " ['张国玺', '曾于嘉', '唐帅', '常智辉', '刘奕菲'],\n",
      " ['李子贤', '聂宗举', '张涵涛', '袁志勇', '熊程锦']]\n"
     ]
    }
   ],
   "source": [
    "pprint(students_groups)\n"
   ]
  }
 ],
 "metadata": {
  "kernelspec": {
   "display_name": "venv",
   "language": "python",
   "name": "python3"
  },
  "language_info": {
   "codemirror_mode": {
    "name": "ipython",
    "version": 3
   },
   "file_extension": ".py",
   "mimetype": "text/x-python",
   "name": "python",
   "nbconvert_exporter": "python",
   "pygments_lexer": "ipython3",
   "version": "3.9.18"
  }
 },
 "nbformat": 4,
 "nbformat_minor": 2
}
