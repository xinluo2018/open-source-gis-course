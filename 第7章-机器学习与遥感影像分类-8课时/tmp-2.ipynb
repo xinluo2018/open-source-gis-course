{
 "cells": [
  {
   "cell_type": "code",
   "execution_count": 46,
   "metadata": {},
   "outputs": [],
   "source": [
    "from sklearn.ensemble import RandomForestClassifier\n",
    "from sklearn.metrics import accuracy_score, recall_score, precision_score  ## precision和recall对应用户精度和生产者精度。\n",
    "from sklearn.model_selection import train_test_split\n",
    "import numpy as np\n",
    "import pickle "
   ]
  },
  {
   "cell_type": "code",
   "execution_count": 51,
   "metadata": {},
   "outputs": [],
   "source": [
    "path_numpy = 'data/Section-7/sams_array.npy'\n",
    "sams = np.load(path_numpy)\n",
    "sams_fea, sams_label = sams[:,0:6], sams[:,6]\n"
   ]
  },
  {
   "cell_type": "code",
   "execution_count": null,
   "metadata": {},
   "outputs": [],
   "source": []
  },
  {
   "cell_type": "code",
   "execution_count": 53,
   "metadata": {},
   "outputs": [
    {
     "data": {
      "text/plain": [
       "array([[0.1254, 0.126 , 0.12  , 0.1139, 0.1137, 0.1126],\n",
       "       [0.1258, 0.1251, 0.1197, 0.1133, 0.1121, 0.1115],\n",
       "       [0.1256, 0.126 , 0.1189, 0.113 , 0.113 , 0.1124],\n",
       "       ...,\n",
       "       [0.1684, 0.1844, 0.2072, 0.3512, 0.3835, 0.2668],\n",
       "       [0.1808, 0.1908, 0.2014, 0.2182, 0.2602, 0.2462],\n",
       "       [0.1756, 0.1842, 0.1955, 0.223 , 0.2669, 0.2499]])"
      ]
     },
     "execution_count": 53,
     "metadata": {},
     "output_type": "execute_result"
    }
   ],
   "source": [
    "sams_fea = sams_fea/(10000-0)\n",
    "sams_fea"
   ]
  },
  {
   "cell_type": "code",
   "execution_count": 54,
   "metadata": {},
   "outputs": [
    {
     "name": "stdout",
     "output_type": "stream",
     "text": [
      "(336, 6)\n",
      "(144, 6)\n"
     ]
    }
   ],
   "source": [
    "X_train, X_test, y_train, y_test = train_test_split(sams_fea, sams_label, test_size=0.3, random_state=42)\n",
    "print(X_train.shape)\n",
    "print(X_test.shape)"
   ]
  },
  {
   "cell_type": "code",
   "execution_count": 55,
   "metadata": {},
   "outputs": [],
   "source": [
    "model_rf = RandomForestClassifier(random_state=42)\n"
   ]
  },
  {
   "cell_type": "code",
   "execution_count": 56,
   "metadata": {},
   "outputs": [],
   "source": [
    "model_rf = model_rf.fit(X=X_train, y=y_train)"
   ]
  },
  {
   "cell_type": "code",
   "execution_count": 57,
   "metadata": {},
   "outputs": [],
   "source": [
    "y_test_pred = model_rf.predict(X_test)\n"
   ]
  },
  {
   "cell_type": "code",
   "execution_count": null,
   "metadata": {},
   "outputs": [],
   "source": []
  },
  {
   "cell_type": "code",
   "execution_count": 58,
   "metadata": {},
   "outputs": [
    {
     "name": "stdout",
     "output_type": "stream",
     "text": [
      "[0.347  0.377  0.4264 0.403  0.4174 0.4182]\n"
     ]
    },
    {
     "data": {
      "text/plain": [
       "array([1])"
      ]
     },
     "execution_count": 58,
     "metadata": {},
     "output_type": "execute_result"
    }
   ],
   "source": [
    "print(X_test[11])\n",
    "model_rf.predict(np.array(X_test[11].reshape(1,6)).reshape(1,6))\n"
   ]
  },
  {
   "cell_type": "code",
   "execution_count": 59,
   "metadata": {},
   "outputs": [
    {
     "data": {
      "text/plain": [
       "array([0])"
      ]
     },
     "execution_count": 59,
     "metadata": {},
     "output_type": "execute_result"
    }
   ],
   "source": [
    "## 模型加载\n",
    "path_model = 'data/Section-7/model_rf.pickle'\n",
    "with open(path_model, 'rb') as file:\n",
    "  model_rf_ = pickle.load(file)\n",
    "\n",
    "model_rf_.predict(np.array(X_test[11].reshape(1,6)).reshape(1,6))\n"
   ]
  },
  {
   "cell_type": "code",
   "execution_count": 60,
   "metadata": {},
   "outputs": [
    {
     "data": {
      "text/plain": [
       "array([[78,  0],\n",
       "       [ 0, 66]], dtype=int64)"
      ]
     },
     "execution_count": 60,
     "metadata": {},
     "output_type": "execute_result"
    }
   ],
   "source": [
    "from sklearn.metrics import confusion_matrix\n",
    "confusion_matrix(y_true=y_test, y_pred=y_test_pred, labels=[0,1])\n"
   ]
  },
  {
   "cell_type": "code",
   "execution_count": 61,
   "metadata": {},
   "outputs": [
    {
     "name": "stdout",
     "output_type": "stream",
     "text": [
      "1.0\n",
      "1.0\n",
      "1.0\n"
     ]
    }
   ],
   "source": [
    "oa = accuracy_score(y_true=y_test, y_pred=y_test_pred)\n",
    "print(oa)\n",
    "precision = precision_score(y_true=y_test, y_pred=y_test_pred)\n",
    "print(precision)\n",
    "recall = recall_score(y_true=y_test, y_pred=y_test_pred)\n",
    "print(recall)\n",
    "\n"
   ]
  },
  {
   "cell_type": "code",
   "execution_count": null,
   "metadata": {},
   "outputs": [],
   "source": [
    "\n",
    "# path_model = 'data/Section-7/model_rf.pickle'\n",
    "# with open(path_model, 'wb') as file:\n",
    "#     pickle.dump(model_rf, file)\n"
   ]
  }
 ],
 "metadata": {
  "kernelspec": {
   "display_name": "venv",
   "language": "python",
   "name": "python3"
  },
  "language_info": {
   "codemirror_mode": {
    "name": "ipython",
    "version": 3
   },
   "file_extension": ".py",
   "mimetype": "text/x-python",
   "name": "python",
   "nbconvert_exporter": "python",
   "pygments_lexer": "ipython3",
   "version": "3.9.18"
  }
 },
 "nbformat": 4,
 "nbformat_minor": 2
}
