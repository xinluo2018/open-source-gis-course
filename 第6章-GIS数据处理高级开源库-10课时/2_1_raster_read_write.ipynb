{
 "cells": [
  {
   "cell_type": "markdown",
   "metadata": {},
   "source": [
    "### 栅格数据读写"
   ]
  },
  {
   "cell_type": "code",
   "execution_count": 6,
   "metadata": {},
   "outputs": [],
   "source": [
    "import rasterio as rio\n"
   ]
  },
  {
   "cell_type": "code",
   "execution_count": 8,
   "metadata": {},
   "outputs": [],
   "source": [
    "path_data = 'data/section-6/s2_20m_6bands_chenggong.tif'\n"
   ]
  },
  {
   "cell_type": "code",
   "execution_count": 10,
   "metadata": {},
   "outputs": [
    {
     "data": {
      "text/plain": [
       "rasterio.io.DatasetReader"
      ]
     },
     "execution_count": 10,
     "metadata": {},
     "output_type": "execute_result"
    }
   ],
   "source": [
    "rsimg = rio.open(path_data)\n",
    "type(rsimg)\n"
   ]
  },
  {
   "cell_type": "code",
   "execution_count": 18,
   "metadata": {},
   "outputs": [
    {
     "name": "stdout",
     "output_type": "stream",
     "text": [
      "1497\n",
      "1611\n",
      "6\n",
      "EPSG:32648\n"
     ]
    }
   ],
   "source": [
    "## 查看影像尺寸\n",
    "print(rsimg.width)\n",
    "print(rsimg.height)\n",
    "print(rsimg.count)\n",
    "## 查看坐标系统\n",
    "print(rsimg.crs)"
   ]
  },
  {
   "cell_type": "code",
   "execution_count": 19,
   "metadata": {},
   "outputs": [
    {
     "data": {
      "text/plain": [
       "Affine(20.0, 0.0, 268180.0,\n",
       "       0.0, -20.0, 2765440.0)"
      ]
     },
     "execution_count": 19,
     "metadata": {},
     "output_type": "execute_result"
    }
   ],
   "source": [
    "## 查看转换参数，含义为（x方向分辨率，x方向旋转参数，左上角x坐标，y方向旋转参数，y方向分辨率，左上角y坐标）\n",
    "rsimg.transform\n"
   ]
  },
  {
   "cell_type": "code",
   "execution_count": 17,
   "metadata": {},
   "outputs": [
    {
     "name": "stdout",
     "output_type": "stream",
     "text": [
      "BoundingBox(left=268180.0, bottom=2733220.0, right=298120.0, top=2765440.0)\n",
      "GTiff\n"
     ]
    }
   ],
   "source": [
    "print(rsimg.bounds)\n",
    "print(rsimg.driver)\n"
   ]
  },
  {
   "cell_type": "code",
   "execution_count": 20,
   "metadata": {},
   "outputs": [
    {
     "data": {
      "text/plain": [
       "{'driver': 'GTiff',\n",
       " 'dtype': 'uint16',\n",
       " 'nodata': None,\n",
       " 'width': 1497,\n",
       " 'height': 1611,\n",
       " 'count': 6,\n",
       " 'crs': CRS.from_wkt('PROJCS[\"WGS 84 / UTM zone 48N\",GEOGCS[\"WGS 84\",DATUM[\"WGS_1984\",SPHEROID[\"WGS 84\",6378137,298.257223563,AUTHORITY[\"EPSG\",\"7030\"]],AUTHORITY[\"EPSG\",\"6326\"]],PRIMEM[\"Greenwich\",0,AUTHORITY[\"EPSG\",\"8901\"]],UNIT[\"degree\",0.0174532925199433,AUTHORITY[\"EPSG\",\"9122\"]],AUTHORITY[\"EPSG\",\"4326\"]],PROJECTION[\"Transverse_Mercator\"],PARAMETER[\"latitude_of_origin\",0],PARAMETER[\"central_meridian\",105],PARAMETER[\"scale_factor\",0.9996],PARAMETER[\"false_easting\",500000],PARAMETER[\"false_northing\",0],UNIT[\"metre\",1,AUTHORITY[\"EPSG\",\"9001\"]],AXIS[\"Easting\",EAST],AXIS[\"Northing\",NORTH],AUTHORITY[\"EPSG\",\"32648\"]]'),\n",
       " 'transform': Affine(20.0, 0.0, 268180.0,\n",
       "        0.0, -20.0, 2765440.0)}"
      ]
     },
     "execution_count": 20,
     "metadata": {},
     "output_type": "execute_result"
    }
   ],
   "source": [
    "## 查看主要信息，包括尺寸、坐标系等\n",
    "rsimg.meta\n"
   ]
  },
  {
   "cell_type": "markdown",
   "metadata": {},
   "source": [
    "#### 提取并写出波段"
   ]
  },
  {
   "cell_type": "code",
   "execution_count": 24,
   "metadata": {},
   "outputs": [
    {
     "name": "stdout",
     "output_type": "stream",
     "text": [
      "<class 'numpy.ndarray'>\n"
     ]
    },
    {
     "data": {
      "text/plain": [
       "(1611, 1497)"
      ]
     },
     "execution_count": 24,
     "metadata": {},
     "output_type": "execute_result"
    }
   ],
   "source": [
    "band1 = rsimg.read(1)\n",
    "print(type(band1))\n",
    "band1.shape\n",
    "# bands = rsimg.read()\n",
    "# type(bands)\n",
    "# bands.shape\n"
   ]
  },
  {
   "cell_type": "code",
   "execution_count": 26,
   "metadata": {},
   "outputs": [],
   "source": [
    "#### 栅格数据写出(写出某个波段)\n",
    "### 参数准备：driver, height, width, count, dtype, crs, transform\n",
    "driver = 'GTiff'\n",
    "height = band1.shape[0]\n",
    "width = band1.shape[1]\n",
    "count = 1\n",
    "crs = rsimg.crs\n",
    "dtype = band1.dtype\n",
    "transform = rsimg.transform\n"
   ]
  },
  {
   "cell_type": "code",
   "execution_count": 27,
   "metadata": {},
   "outputs": [],
   "source": [
    "path_band1 = 'data/section-6/band1.tif'\n",
    "with rio.open(path_band1, 'w', driver=driver, \n",
    "                   height=height,\n",
    "                   width=width,\n",
    "                   count=count,\n",
    "                   dtype=dtype,\n",
    "                   crs=crs,\n",
    "                   transform=transform) as dst:\n",
    "  dst.write(band1, 1)   ## the number 1 is the number of bands.\n",
    "\n",
    "\n"
   ]
  }
 ],
 "metadata": {
  "kernelspec": {
   "display_name": "gis-course",
   "language": "python",
   "name": "python3"
  },
  "language_info": {
   "codemirror_mode": {
    "name": "ipython",
    "version": 3
   },
   "file_extension": ".py",
   "mimetype": "text/x-python",
   "name": "python",
   "nbconvert_exporter": "python",
   "pygments_lexer": "ipython3",
   "version": "3.10.18"
  }
 },
 "nbformat": 4,
 "nbformat_minor": 2
}
