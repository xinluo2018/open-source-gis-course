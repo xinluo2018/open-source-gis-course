{
 "cells": [
  {
   "cell_type": "code",
   "execution_count": 2,
   "id": "1a55d20e",
   "metadata": {},
   "outputs": [],
   "source": [
    "import rasterio as rio\n",
    "from rasterio.warp import reproject, Resampling\n",
    "from rasterio.transform import Affine\n"
   ]
  },
  {
   "cell_type": "markdown",
   "id": "84fe1e92",
   "metadata": {},
   "source": [
    "#### 1. 重采样"
   ]
  },
  {
   "cell_type": "code",
   "execution_count": 3,
   "id": "fed75781",
   "metadata": {},
   "outputs": [],
   "source": [
    "path_rsimg = 'data/section-6/s2_20m_6bands_chenggong.tif'\n",
    "path_rsimg_resam = 'data/section-6/s2_20m_6bands_chenggong_resam.tif'\n"
   ]
  },
  {
   "cell_type": "code",
   "execution_count": 4,
   "id": "d9d50bdc",
   "metadata": {},
   "outputs": [],
   "source": [
    "# --- 设置目标分辨率（可自定义X/Y方向不同）---\n",
    "target_x_res = 30.0     # 目标X方向分辨率（米）\n",
    "target_y_res = 40.0     # 目标Y方向分辨率（米）\n"
   ]
  },
  {
   "cell_type": "code",
   "execution_count": 5,
   "id": "d94102df",
   "metadata": {},
   "outputs": [
    {
     "name": "stdout",
     "output_type": "stream",
     "text": [
      "| 20.00, 0.00, 268180.00|\n",
      "| 0.00,-20.00, 2765440.00|\n",
      "| 0.00, 0.00, 1.00|\n",
      "EPSG:32648\n"
     ]
    }
   ],
   "source": [
    "## 读取原始栅格\n",
    "with rio.open(path_rsimg) as src:\n",
    "    data = src.read(1)       # 读取第一波段\n",
    "    src_transform = src.transform  # 原始仿射变换矩阵\n",
    "    src_crs = src.crs        # 原始坐标系\n",
    "    src_width = src.width    # 原始宽度（像素）\n",
    "    src_height = src.height  # 原始高度（像素）\n",
    "\n",
    "print(src_transform)  # x方向分辨率，x方向偏移，左上角点x坐标；y方向...\n",
    "# data.shape\n",
    "print(src_crs)"
   ]
  },
  {
   "cell_type": "code",
   "execution_count": 6,
   "id": "fec0a516",
   "metadata": {},
   "outputs": [],
   "source": [
    "# --- 1. 获取原始分辨率（X/Y方向）---\n",
    "x_res = src_transform.a   # X方向分辨率\n",
    "y_res = -src_transform.e  # Y方向分辨率, 负值表示北向\n",
    "\n",
    "# --- 2. 计算重采样栅格参数 ---\n",
    "# 2.1 缩放比例（宽度/高度）\n",
    "x_scale = x_res / target_x_res  # X方向缩放比例\n",
    "y_scale = y_res / target_y_res  # Y方向缩放比例\n",
    "\n",
    "# 2.2 重采样栅格尺寸（整数像素）\n",
    "dst_width = int(src_width * x_scale)\n",
    "dst_height = int(src_height * y_scale)\n",
    "\n",
    "# 2.3 重采样栅格仿射变换矩阵（调整分辨率，保持左上角原点不变）\n",
    "dst_transform = Affine(\n",
    "    a = target_x_res,     # X方向分辨率\n",
    "    b = src_transform.b,  # X方向旋转（通常为0）\n",
    "    c = src_transform.c,  # 左上角X坐标\n",
    "    d = src_transform.d,  # Y方向旋转（通常为0）\n",
    "    e = -target_y_res,    # Y方向分辨率（负值表示北向）\n",
    "    f = src_transform.f   # 左上角Y坐标\n",
    "    )\n"
   ]
  },
  {
   "cell_type": "code",
   "execution_count": 7,
   "id": "68f49eb6",
   "metadata": {},
   "outputs": [],
   "source": [
    "# --- 创建目标栅格并执行重采样 ---\n",
    "with rio.open(\n",
    "        path_rsimg_resam,\n",
    "        \"w\",\n",
    "        driver=\"GTiff\",\n",
    "        height=dst_height,\n",
    "        width=dst_width,\n",
    "        count=1,\n",
    "        dtype=data.dtype,\n",
    "        crs=src_crs,\n",
    "        transform=dst_transform) as dst:\n",
    "\n",
    "        reproject(\n",
    "            source=data,  # 原数据\n",
    "            src_transform=src_transform,  # 原数据仿射变换矩阵\n",
    "            src_crs=src_crs,       # 原数据坐标系\n",
    "            destination=rio.band(dst, 1),  # 目标数据（rio.band():波段写入）\n",
    "            dst_transform=dst_transform,    # 目标数据仿射变换矩阵\n",
    "            dst_crs=src_crs,    # 目标数据坐标系\n",
    "            resampling=Resampling.bilinear,  # 可替换为其他方法\n",
    "        )\n"
   ]
  },
  {
   "cell_type": "markdown",
   "id": "8699d506",
   "metadata": {},
   "source": [
    "#### 2. 重投影"
   ]
  },
  {
   "cell_type": "code",
   "execution_count": 8,
   "id": "8916ed7e",
   "metadata": {},
   "outputs": [],
   "source": [
    "import rasterio as rio\n",
    "from rasterio.warp import reproject, Resampling, calculate_default_transform\n"
   ]
  },
  {
   "cell_type": "code",
   "execution_count": 9,
   "id": "c9024fb3",
   "metadata": {},
   "outputs": [
    {
     "data": {
      "text/plain": [
       "'GEOGCRS[\"WGS 84\",ENSEMBLE[\"World Geodetic System 1984 ensemble\",MEMBER[\"World Geodetic System 1984 (Transit)\"],MEMBER[\"World Geodetic System 1984 (G730)\"],MEMBER[\"World Geodetic System 1984 (G873)\"],MEMBER[\"World Geodetic System 1984 (G1150)\"],MEMBER[\"World Geodetic System 1984 (G1674)\"],MEMBER[\"World Geodetic System 1984 (G1762)\"],MEMBER[\"World Geodetic System 1984 (G2139)\"],ELLIPSOID[\"WGS 84\",6378137,298.257223563,LENGTHUNIT[\"metre\",1]],ENSEMBLEACCURACY[2.0]],PRIMEM[\"Greenwich\",0,ANGLEUNIT[\"degree\",0.0174532925199433]],CS[ellipsoidal,2],AXIS[\"geodetic latitude (Lat)\",north,ORDER[1],ANGLEUNIT[\"degree\",0.0174532925199433]],AXIS[\"geodetic longitude (Lon)\",east,ORDER[2],ANGLEUNIT[\"degree\",0.0174532925199433]],USAGE[SCOPE[\"Horizontal component of 3D system.\"],AREA[\"World.\"],BBOX[-90,-180,90,180]],ID[\"EPSG\",4326]]'"
      ]
     },
     "execution_count": 9,
     "metadata": {},
     "output_type": "execute_result"
    }
   ],
   "source": [
    "from pyproj import CRS\n",
    "path_rsimg = 'data/section-6/s2_20m_6bands_chenggong.tif'\n",
    "path_rsimg_reproj = 'data/section-6/s2_20m_6bands_chenggong_reproj2wgs84.tif'\n",
    "# target_crs = 'EPSG:4326'  ## 目标坐标系（WGS84）,rasterio支持不足\n",
    "target_crs = CRS.from_epsg(4326)  ## 目标坐标系（WGS84）\n",
    "target_crs = target_crs.to_wkt()   # WKT 格式, rasterio支持\n",
    "target_crs"
   ]
  },
  {
   "cell_type": "code",
   "execution_count": 10,
   "id": "4002255a",
   "metadata": {},
   "outputs": [],
   "source": [
    "with rio.open(path_rsimg) as src:\n",
    "    src_data = src.read()       # 读取所有波段\n",
    "    src_crs = src.crs               # 原始坐标系\n",
    "    src_count = src.count           # 波段数\n",
    "    src_nodata = src.nodata         # 原始NoData值\n",
    "    src_dtype = src.dtypes[0]       # 数据类型（假设所有波段一致）\n",
    "    src_bounds = src.bounds         # 原始地理范围（left, bottom, right, top）\n"
   ]
  },
  {
   "cell_type": "code",
   "execution_count": 11,
   "id": "62b496dc",
   "metadata": {},
   "outputs": [
    {
     "data": {
      "text/plain": [
       "Affine(0.00018901229645706938, 0.0, 102.70334409951235,\n",
       "       0.0, -0.00018901229645706938, 24.990997116836738)"
      ]
     },
     "execution_count": 11,
     "metadata": {},
     "output_type": "execute_result"
    }
   ],
   "source": [
    "# 1. 计算重投影后影像参数（转换矩阵、宽度、高度）\n",
    "dst_transform, dst_width, dst_height = calculate_default_transform(\n",
    "    src_crs = src_crs,          # 原坐标系\n",
    "    dst_crs = target_crs,       # 目标坐标系（WGS84）\n",
    "    width = src.width,          # 原始宽度（像素）\n",
    "    height = src.height,        # 原始高度（像素）\n",
    "    left = src_bounds.left,\n",
    "    bottom = src_bounds.bottom,\n",
    "    right = src_bounds.right,\n",
    "    top = src_bounds.top \n",
    "    )\n",
    "\n",
    "dst_transform"
   ]
  },
  {
   "cell_type": "code",
   "execution_count": 12,
   "id": "a52a07b3",
   "metadata": {},
   "outputs": [],
   "source": [
    "# 创建目标栅格文件\n",
    "with rio.open(\n",
    "        fp=path_rsimg_reproj,\n",
    "        mode=\"w\",\n",
    "        driver=\"GTiff\",\n",
    "        height=dst_height,\n",
    "        width=dst_width,\n",
    "        count=src_count,  \n",
    "        dtype=src_data.dtype,\n",
    "        crs=target_crs,\n",
    "        transform=dst_transform) as dst:\n",
    "    # 执行重投影（循环，逐波段处理）\n",
    "    for i in range(0, src_count):\n",
    "        reproject(\n",
    "            source=src_data[i],  # 输入数据\n",
    "            src_transform=src_transform,\n",
    "            src_crs=src_crs,\n",
    "            src_nodata=src_nodata,\n",
    "            destination=rio.band(dst, i+1),  # 目标波段, 注意索引从1开始\n",
    "            dst_transform=dst_transform,\n",
    "            dst_crs=target_crs,\n",
    "            resampling=Resampling.bilinear,  # 重采样方法\n",
    "        )\n"
   ]
  },
  {
   "cell_type": "markdown",
   "id": "22e87239",
   "metadata": {},
   "source": [
    "#### 影像裁剪"
   ]
  },
  {
   "cell_type": "code",
   "execution_count": 13,
   "id": "f9937534",
   "metadata": {},
   "outputs": [],
   "source": [
    "import rasterio as rio\n"
   ]
  },
  {
   "cell_type": "code",
   "execution_count": 14,
   "id": "1b7ca83e",
   "metadata": {},
   "outputs": [
    {
     "name": "stderr",
     "output_type": "stream",
     "text": [
      "c:\\Users\\HP\\miniconda3\\envs\\gis-course\\lib\\site-packages\\rasterio\\windows.py:729: RasterioDeprecationWarning: round_shape is deprecated and will be removed in Rasterio 2.0.0.\n",
      "  warnings.warn(\n"
     ]
    }
   ],
   "source": [
    "# 输入输出路径\n",
    "path_clip_1 = 'data/section-6/s2_20m_6bands_chenggong_clip1.tif'\n",
    "\n",
    "# 定义裁剪范围（地理坐标：左、下、右、上）\n",
    "clip_bounds_1 = (278726, 2748552, 282667, 2752483)  # 范围: (左, 下, 右, 上)\n",
    "# 打开原始栅格\n",
    "with rio.open(path_rsimg) as src:\n",
    "    # 计算裁剪范围的像素窗口\n",
    "    window = src.window(*clip_bounds_1)\n",
    "    ## round_offsets():调整窗口的起始位置; round_shape():调整窗口的大小\n",
    "    window = window.round_offsets().round_shape()  # 调整窗口，使其对齐到栅格数据 \n",
    "\n",
    "    # 读取窗口内的数据, data为np.array数组\n",
    "    data = src.read(window=window)\n",
    "    # 计算裁剪后的新变换矩阵\n",
    "    new_transform = src.window_transform(window)\n",
    "\n",
    "    # 写入裁剪结果\n",
    "    with rio.open(\n",
    "            fp=path_clip_1,\n",
    "            mode=\"w\",\n",
    "            driver=\"GTiff\",\n",
    "            height=window.height,\n",
    "            width=window.width,\n",
    "            count=src.count,\n",
    "            dtype=data.dtype,\n",
    "            crs=src.crs,\n",
    "            transform=new_transform) as dst:\n",
    "        dst.write(data)\n"
   ]
  },
  {
   "cell_type": "code",
   "execution_count": null,
   "id": "18b37b0e",
   "metadata": {},
   "outputs": [],
   "source": [
    "## 基于矢量裁剪\n",
    "import geopandas as gpd\n",
    "from rasterio.mask import mask\n",
    "path_rsimg = 'data/section-6/s2_20m_6bands_chenggong.tif'\n",
    "path_ynu_vec = 'data/section-6/ynu.gpkg'\n",
    "path_rsimg_clip_2 = 'data/section-6/s2_20m_6bands_chenggong_clip_2.tif'\n"
   ]
  },
  {
   "cell_type": "code",
   "execution_count": null,
   "id": "fecf6dd1",
   "metadata": {},
   "outputs": [],
   "source": [
    "polygons = gpd.read_file(path_ynu_vec).to_crs(epsg=32648).geometry.values\n",
    "\n",
    "with rio.open(path_rsimg) as src:\n",
    "    # 执行掩膜裁剪\n",
    "    crop_data, crop_transform = mask(\n",
    "        src,\n",
    "        polygons,\n",
    "        crop=True,           # 裁剪到最小外接矩形\n",
    "        all_touched=False,   # 只包含完全在内部的像素\n",
    "        nodata=src.nodata    # 使用原始NoData值\n",
    "    )\n",
    "\n",
    "    # 更新元数据\n",
    "    meta_ = src.meta.copy()\n",
    "    meta_.update({\n",
    "        'height': crop_data.shape[1],\n",
    "        'width': crop_data.shape[2],\n",
    "        'transform': crop_transform\n",
    "    })\n",
    "\n",
    "    with rio.open(path_rsimg_clip_2, 'w', **meta_) as dst:\n",
    "        dst.write(crop_data)\n"
   ]
  },
  {
   "cell_type": "markdown",
   "id": "91499bc9",
   "metadata": {},
   "source": [
    "#### 影像拼接"
   ]
  },
  {
   "cell_type": "code",
   "execution_count": null,
   "id": "15595d92",
   "metadata": {},
   "outputs": [],
   "source": [
    "import rasterio\n",
    "from rasterio.merge import merge\n",
    "\n",
    "# 输入文件列表\n",
    "path_rsimg_1 = 'data/data-section-6/s2_20m_6bands_chenggong_clip1.tif'\n",
    "path_rsimg_2 = 'data/data-section-6/s2_20m_6bands_chenggong_clip2.tif'\n",
    "path_mosaic = 'data/data-section-6/s2_20m_6bands_chenggong_mosaic.tif'\n"
   ]
  },
  {
   "cell_type": "code",
   "execution_count": 16,
   "id": "a7661351",
   "metadata": {},
   "outputs": [
    {
     "data": {
      "text/plain": [
       "{'driver': 'GTiff',\n",
       " 'dtype': 'uint16',\n",
       " 'nodata': None,\n",
       " 'width': 547,\n",
       " 'height': 531,\n",
       " 'count': 4,\n",
       " 'crs': CRS.from_wkt('PROJCS[\"WGS 84 / UTM zone 48N\",GEOGCS[\"WGS 84\",DATUM[\"WGS_1984\",SPHEROID[\"WGS 84\",6378137,298.257223563]],PRIMEM[\"Greenwich\",0],UNIT[\"degree\",0.0174532925199433,AUTHORITY[\"EPSG\",\"9122\"]]],PROJECTION[\"Transverse_Mercator\"],PARAMETER[\"latitude_of_origin\",0],PARAMETER[\"central_meridian\",105],PARAMETER[\"scale_factor\",0.9996],PARAMETER[\"false_easting\",500000],PARAMETER[\"false_northing\",0],UNIT[\"metre\",1,AUTHORITY[\"EPSG\",\"9001\"]],AXIS[\"Easting\",EAST],AXIS[\"Northing\",NORTH]]'),\n",
       " 'transform': Affine(10.0, 0.0, 278720.0,\n",
       "        0.0, -10.0, 2752490.0)}"
      ]
     },
     "execution_count": 16,
     "metadata": {},
     "output_type": "execute_result"
    }
   ],
   "source": [
    "# 读取所有栅格\n",
    "src_1 = rio.open(path_rsimg_1)\n",
    "src_2 = rio.open(path_rsimg_2)\n",
    "\n",
    "# 执行拼接\n",
    "merged_data, merged_transform = merge([src_1, src_2])\n",
    "\n",
    "# 更新元数据\n",
    "meta = src_1.meta.copy()\n",
    "meta.update({\n",
    "    \"height\": merged_data.shape[1],\n",
    "    \"width\": merged_data.shape[2],\n",
    "    \"transform\": merged_transform\n",
    "    })\n",
    "meta\n"
   ]
  },
  {
   "cell_type": "code",
   "execution_count": null,
   "id": "02b96da6",
   "metadata": {},
   "outputs": [],
   "source": [
    "## 写入结果\n",
    "with rasterio.open(fp=path_mosaic, \n",
    "                mode=\"w\", \n",
    "                driver=\"GTiff\",\n",
    "                height=meta['height'],\n",
    "                width=meta['width'],\n",
    "                count=meta['count'],\n",
    "                dtype=meta['dtype'],\n",
    "                crs=meta['crs'],\n",
    "                transform=meta['transform']) as dst:\n",
    "    dst.write(merged_data)\n",
    "\n",
    "# 关闭所有输入文件\n",
    "src_1.close()\n",
    "src_2.close()\n",
    "\n"
   ]
  }
 ],
 "metadata": {
  "kernelspec": {
   "display_name": "gis-course",
   "language": "python",
   "name": "python3"
  },
  "language_info": {
   "codemirror_mode": {
    "name": "ipython",
    "version": 3
   },
   "file_extension": ".py",
   "mimetype": "text/x-python",
   "name": "python",
   "nbconvert_exporter": "python",
   "pygments_lexer": "ipython3",
   "version": "3.10.18"
  }
 },
 "nbformat": 4,
 "nbformat_minor": 5
}
