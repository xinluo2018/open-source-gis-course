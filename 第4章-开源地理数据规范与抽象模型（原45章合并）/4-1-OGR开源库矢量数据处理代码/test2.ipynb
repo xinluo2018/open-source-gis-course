{
 "cells": [
  {
   "cell_type": "code",
   "execution_count": 1,
   "metadata": {},
   "outputs": [],
   "source": [
    "from osgeo import ogr\n"
   ]
  },
  {
   "cell_type": "code",
   "execution_count": 2,
   "metadata": {},
   "outputs": [],
   "source": [
    "path = 'data/Section-2/kunming_wgs84.gpkg'\n",
    "path_out = 'data/Section-4/kunming_utm48.gpkg'\n"
   ]
  },
  {
   "cell_type": "code",
   "execution_count": 3,
   "metadata": {},
   "outputs": [
    {
     "name": "stdout",
     "output_type": "stream",
     "text": [
      "<osgeo.osr.CoordinateTransformation; proxy of <Swig Object of type 'OSRCoordinateTransformationShadow *' at 0x00000255298B34B0> >\n"
     ]
    }
   ],
   "source": [
    "utm_epsg = 32648 \n",
    "## 1. 读入矢量数据\n",
    "in_ds = ogr.Open(path)\n",
    "in_layer = in_ds.GetLayer(0)\n",
    "\n",
    "## 2. 创建新的空间参考\n",
    "utm_srs = ogr.osr.SpatialReference()\n",
    "utm_srs.ImportFromEPSG(utm_epsg)\n",
    "\n",
    "## 3. 创建写出数据及矢量图层\n",
    "driver = ogr.GetDriverByName('GPKG')\n",
    "out_ds = driver.CreateDataSource(path_out)\n",
    "out_layer = out_ds.CreateLayer('kunming_utm48', \\\n",
    "                               geom_type=ogr.wkbPolygon, \\\n",
    "                                srs=utm_srs)\n",
    "\n",
    "## 4. 创建转换对象，并进行投影转换\n",
    "spatialRef = in_layer.GetSpatialRef()\n",
    "cor_transform = ogr.osr.CoordinateTransformation(spatialRef, utm_srs)\n",
    "print(cor_transform)\n",
    "\n",
    "for i in range(in_layer.GetFeature(1).GetFieldCount()):\n",
    "    field_defn = in_layer.GetFeature(1).GetFieldDefnRef(i)\n",
    "    out_layer.CreateField(field_defn)\n",
    "\n",
    "fea_defn = in_layer.GetLayerDefn()\n",
    "for i in range(in_layer.GetFeatureCount()):\n",
    "    in_fea = in_layer.GetFeature(i+1) \n",
    "    in_geo = in_fea.geometry()   \n",
    "    in_geo.Transform(cor_transform)\n",
    "    out_fea = ogr.Feature(fea_defn)\n",
    "    out_fea.SetGeometry(in_geo)\n",
    "    for j in range(fea_defn.GetFieldCount()):\n",
    "        field_value = in_fea.GetField(j)\n",
    "        out_fea.SetField(j, field_value)\n",
    "    out_layer.CreateFeature(out_fea)  \n",
    "ds = None\n",
    "out_ds = None\n"
   ]
  },
  {
   "cell_type": "code",
   "execution_count": 2,
   "metadata": {},
   "outputs": [],
   "source": [
    "path_utm = 'data/Section-4/kunming_utm48.gpkg'\n"
   ]
  },
  {
   "cell_type": "code",
   "execution_count": 4,
   "metadata": {},
   "outputs": [],
   "source": [
    "# ds = ogr.Open(path, 1)\n",
    "# layer = ds.GetLayer(0)\n",
    "# id_field = layer.GetFeature(1).GetFieldIndex('dt_adcode')\n",
    "# layer.DeleteField(id_field)\n",
    "# ds = None\n"
   ]
  },
  {
   "cell_type": "code",
   "execution_count": 5,
   "metadata": {},
   "outputs": [
    {
     "name": "stdout",
     "output_type": "stream",
     "text": [
      "388.68132965333547\n",
      "864.295296736931\n",
      "638.33361729476\n",
      "887.0758120914002\n",
      "1866.1175875335928\n",
      "499.36396388766826\n",
      "1338.5644973111446\n",
      "994.1854960593394\n",
      "1914.092175416861\n",
      "1681.4133762503427\n",
      "828.4756858595103\n",
      "4227.121468713026\n",
      "3598.3429000372294\n",
      "1301.1314514651406\n"
     ]
    }
   ],
   "source": [
    "ds = ogr.Open(path, 1)\n",
    "layer = ds.GetLayer(0)\n",
    "field_defn = ogr.FieldDefn('Area(km2)', ogr.OFTReal)\n",
    "layer.CreateField(field_defn)\n",
    "area_dt, name_dt = [], []\n",
    "for i in range(layer.GetFeatureCount()):\n",
    "    fea = layer.GetFeature(i+1)\n",
    "    fea_area = fea.geometry().Area()\n",
    "    fea_area = fea_area/1000000\n",
    "    area_dt.append(fea_area)\n",
    "    fea_name = fea.GetField('dt_name')\n",
    "    name_dt.append(fea_name)\n",
    "    print(fea_area)\n",
    "    fea.SetField('Area(km2)', fea_area)\n",
    "    layer.SetFeature(fea)\n",
    "ds = None\n"
   ]
  },
  {
   "cell_type": "code",
   "execution_count": 10,
   "metadata": {},
   "outputs": [
    {
     "data": {
      "text/plain": [
       "<BarContainer object of 14 artists>"
      ]
     },
     "execution_count": 10,
     "metadata": {},
     "output_type": "execute_result"
    },
    {
     "data": {
      "image/png": "[encoded data removed]",
      "text/plain": [
       "<Figure size 1500x300 with 1 Axes>"
      ]
     },
     "metadata": {},
     "output_type": "display_data"
    }
   ],
   "source": [
    "import matplotlib.pyplot as plt\n",
    "fig, ax = plt.subplots(1, 1, figsize=(15,3))\n",
    "ax.bar(name_dt, area_dt, color='red', width=0.5)\n",
    "\n"
   ]
  },
  {
   "cell_type": "code",
   "execution_count": 3,
   "metadata": {},
   "outputs": [],
   "source": [
    "path = 'data/Section-4/kunming_utm48_centroid.gpkg'\n",
    "in_ds = ogr.Open(path_utm, 0)\n",
    "in_layer = in_ds.GetLayer(0)\n",
    "\n",
    "in_SpatialRef = in_layer.GetSpatialRef()\n",
    "driver = ogr.GetDriverByName('GPKG')\n",
    "out_ds = driver.CreateDataSource(path)\n",
    "out_layer = out_ds.CreateLayer('kunming_utm48_centroid', geom_type=ogr.wkbPoint, srs=in_SpatialRef)\n",
    "\n",
    "field_defn = ogr.FieldDefn('fid', ogr.OFTInteger)\n",
    "out_layer.CreateField(field_defn)\n",
    "\n",
    "out_fea_defn = out_layer.GetLayerDefn()\n",
    "\n",
    "for i in range(in_layer.GetFeatureCount()):\n",
    "    in_fea = in_layer.GetFeature(i+1)\n",
    "    out_geo = in_fea.geometry().Centroid()\n",
    "    out_fea = ogr.Feature(out_fea_defn)\n",
    "    out_fea.SetGeometry(out_geo)\n",
    "    out_fea.SetField('fid', i+1)   \n",
    "    out_layer.CreateFeature(out_fea)\n",
    "ds = None\n",
    "out_ds = None\n"
   ]
  },
  {
   "cell_type": "code",
   "execution_count": 3,
   "metadata": {},
   "outputs": [],
   "source": [
    "path_ynu = 'data/Section-4/ynu_vec.gpkg'\n",
    "ynu_wkt = \"POLYGON ((102.837 24.832, 102.842 24.836, 102.849 24.836, 102.857 24.835, 102.864 24.828, 102.855 24.826, 102.845 24.821, 102.837 24.832))\"\n",
    "geo_ynu = ogr.CreateGeometryFromWkt(ynu_wkt)\n",
    "geo_ynu\n",
    "\n",
    "spatialRef = ogr.osr.SpatialReference()\n",
    "spatialRef.ImportFromEPSG(4326)\n",
    "\n",
    "driver = ogr.GetDriverByName('GPKG')\n",
    "ds_ynu = driver.CreateDataSource(path_ynu)\n",
    "layer_ynu = ds_ynu.CreateLayer('ynu_vec', srs=spatialRef, geom_type=ogr.wkbPolygon)\n",
    "field_defn = ogr.FieldDefn('fid', ogr.OFTInteger)\n",
    "layer_ynu.CreateField(field_defn)\n",
    "fea_defn = layer_ynu.GetLayerDefn()\n",
    "fea_ynu = ogr.Feature(fea_defn)\n",
    "fea_ynu.SetField('fid', 1)\n",
    "fea_ynu.SetGeometry(geo_ynu)\n",
    "layer_ynu.CreateFeature(fea_ynu)\n",
    "ds_ynu = None\n"
   ]
  }
 ],
 "metadata": {
  "kernelspec": {
   "display_name": "venv",
   "language": "python",
   "name": "python3"
  },
  "language_info": {
   "codemirror_mode": {
    "name": "ipython",
    "version": 3
   },
   "file_extension": ".py",
   "mimetype": "text/x-python",
   "name": "python",
   "nbconvert_exporter": "python",
   "pygments_lexer": "ipython3",
   "version": "3.9.18"
  }
 },
 "nbformat": 4,
 "nbformat_minor": 2
}
