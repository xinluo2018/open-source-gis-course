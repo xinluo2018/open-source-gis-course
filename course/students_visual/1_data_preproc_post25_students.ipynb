{
 "cells": [
  {
   "cell_type": "markdown",
   "metadata": {},
   "source": [
    "#### 针对23、24级同学"
   ]
  },
  {
   "cell_type": "code",
   "execution_count": 7,
   "metadata": {},
   "outputs": [],
   "source": [
    "import pandas as pd\n",
    "import numpy as np\n",
    "import geopandas as gpd\n",
    "from shapely.geometry import Point"
   ]
  },
  {
   "cell_type": "code",
   "execution_count": 43,
   "metadata": {},
   "outputs": [],
   "source": [
    "def df2gpkg(students_df):\n",
    "    points = list(zip(students_df['Longitude'], students_df['Latitude']))\n",
    "    points = [Point(point) for point in points]\n",
    "    students_gdf = gpd.GeoDataFrame(students_df.drop(columns=['Longitude', 'Latitude']), \n",
    "                                        geometry=points) \n",
    "    students_gdf.crs = \"EPSG:4326\"\n",
    "    return students_gdf\n"
   ]
  },
  {
   "cell_type": "code",
   "execution_count": 45,
   "metadata": {},
   "outputs": [],
   "source": [
    "def add_num_students(students_gdf, china_gdf, column='num_students_2023'):\n",
    "    num_in_geos = []\n",
    "    for geo in china_gdf['geometry']:\n",
    "        points = students_gdf.geometry\n",
    "        num_in_geo = points.within(geo).sum()\n",
    "        num_in_geos.append(num_in_geo)\n",
    "    ### Add a new column.\n",
    "    china_gdf_ = china_gdf.copy()\n",
    "    china_gdf_[column] = num_in_geos\n",
    "    return china_gdf_\n"
   ]
  },
  {
   "cell_type": "code",
   "execution_count": 8,
   "metadata": {},
   "outputs": [
    {
     "data": {
      "text/html": [
       "<div>\n",
       "<style scoped>\n",
       "    .dataframe tbody tr th:only-of-type {\n",
       "        vertical-align: middle;\n",
       "    }\n",
       "\n",
       "    .dataframe tbody tr th {\n",
       "        vertical-align: top;\n",
       "    }\n",
       "\n",
       "    .dataframe thead th {\n",
       "        text-align: right;\n",
       "    }\n",
       "</style>\n",
       "<table border=\"1\" class=\"dataframe\">\n",
       "  <thead>\n",
       "    <tr style=\"text-align: right;\">\n",
       "      <th></th>\n",
       "      <th>Name</th>\n",
       "      <th>Gender</th>\n",
       "      <th>Longitude</th>\n",
       "      <th>Latitude</th>\n",
       "      <th>Elevation</th>\n",
       "    </tr>\n",
       "  </thead>\n",
       "  <tbody>\n",
       "    <tr>\n",
       "      <th>0</th>\n",
       "      <td>顾舒扬</td>\n",
       "      <td>boy</td>\n",
       "      <td>120.270</td>\n",
       "      <td>30.188</td>\n",
       "      <td>10.0</td>\n",
       "    </tr>\n",
       "    <tr>\n",
       "      <th>1</th>\n",
       "      <td>周全</td>\n",
       "      <td>boy</td>\n",
       "      <td>103.765</td>\n",
       "      <td>29.552</td>\n",
       "      <td>320.0</td>\n",
       "    </tr>\n",
       "  </tbody>\n",
       "</table>\n",
       "</div>"
      ],
      "text/plain": [
       "  Name Gender  Longitude  Latitude  Elevation\n",
       "0  顾舒扬    boy    120.270    30.188       10.0\n",
       "1   周全    boy    103.765    29.552      320.0"
      ]
     },
     "execution_count": 8,
     "metadata": {},
     "output_type": "execute_result"
    }
   ],
   "source": [
    "students_2023_df = pd.DataFrame(\n",
    "    {\n",
    "        \"Name\":      [\"顾舒扬\", \"周全\",   \"余金珂\", \"张钰婷\",  \"吕行\",   \"魏宇涵\",  \"胡晟昊\", \"蔡熠\",   \"杨彭武\", \"卢玉\",   \"李晓涛\", \"尹鹏翔\", \"任康妮\",  \"岩叫\",   \"陈禹彤\", \"姜春阳\",  \"林丹妮\",  \"李齐力\", \"李良瑞\", \"任昶旭\", \"王盈怡\", \"连思强\", \"连军瑜\",  \"张宇航\", \"刘明岳\",  \"牟兵\",  \"李世鑫\", \"邓灿\",   \"陈鑫\",   \"杨玲坪\", \"奚剑波\", \"蒋志颖\", \"李毓梁\", \"陈龙\", \"涂世彤\",  \"刘可一\", \"娜海\",  \"聂梦婷\", \"赵秋月\"],\n",
    "        \"Gender\":    [\"boy\",   \"boy\",    \"boy\",    \"girl\",   \"boy\",    \"boy\",    \"boy\",    \"boy\",   \"boy\",    \"boy\",   \"boy\",    \"boy\",   \"girl\",    \"boy\",   \"girl\",   \"boy\",    \"girl\",   \"boy\",    \"boy\",    \"boy\",   \"girl\",   \"girl\",  \"girl\",   \"boy\",    \"boy\",    \"boy\",   \"boy\",    \"boy\",   \"boy\",    \"boy\",    \"boy\",   \"girl\",  \"boy\",    \"boy\", \"girl\",   \"boy\",    \"girl\",  \"girl\",  \"girl\"],\n",
    "        \"Longitude\": [120.270,  103.765,  103.765, 102.195,  103.130,  118.089,  110.453,  119.008, 102.850,  103.795, 120.270,  118.250,  111.144,  100.79,  118.526,  116.170,  120.437,  113.450,  103.400,  119.107, 110.128,  118.680, 118.370,  106.917,  116.170,  105.148, 103.680, 115.950,  114.870,  100.212, 106.550,  100.212, 103.717, 103.800, 103.707,  113.650, 100.450, 106.330, 105.450],\n",
    "        \"Latitude\":  [30.188,   29.552,   29.552,  38.526,   23.030,   24.291,   31.133,   25.43,   24.827,   25.496,  30.188,   35.416,   37.518,   22.01,   42.152,   41.120,   27.725,   30.336,   30.540,   36.709,  27.457,   25.370,  24.540,   29.570 ,  41.120,   28.438,  27.370,  30.076,   30.440,   25.613,  25.613,   25.613,  27.338,  25.50,   27.320,   34.800,  22.400,  29.350,  23.560],\n",
    "        \"Elevation\": [10,       320,      320,     1400,     1307,     165,      302,      24,      2008,     2000,    10,       27,       1161,     552.7,   320,      2000,     119,      21.5,     594,      23,      170,      78,      301,      237,      2000,     649,     1685,    39,       90,       2019,    238,      2019,    1685,    2000,    1685,     108,     2350,    221,     750],\n",
    "    }\n",
    ")\n",
    "students_2023_df.head(2)\n"
   ]
  },
  {
   "cell_type": "code",
   "execution_count": 17,
   "metadata": {},
   "outputs": [
    {
     "data": {
      "text/html": [
       "<div>\n",
       "<style scoped>\n",
       "    .dataframe tbody tr th:only-of-type {\n",
       "        vertical-align: middle;\n",
       "    }\n",
       "\n",
       "    .dataframe tbody tr th {\n",
       "        vertical-align: top;\n",
       "    }\n",
       "\n",
       "    .dataframe thead th {\n",
       "        text-align: right;\n",
       "    }\n",
       "</style>\n",
       "<table border=\"1\" class=\"dataframe\">\n",
       "  <thead>\n",
       "    <tr style=\"text-align: right;\">\n",
       "      <th></th>\n",
       "      <th>Name</th>\n",
       "      <th>Gender</th>\n",
       "      <th>Longitude</th>\n",
       "      <th>Latitude</th>\n",
       "      <th>Elevation</th>\n",
       "    </tr>\n",
       "  </thead>\n",
       "  <tbody>\n",
       "    <tr>\n",
       "      <th>0</th>\n",
       "      <td>郑道旸</td>\n",
       "      <td>boy</td>\n",
       "      <td>117.730</td>\n",
       "      <td>39.030</td>\n",
       "      <td>2.0</td>\n",
       "    </tr>\n",
       "    <tr>\n",
       "      <th>1</th>\n",
       "      <td>孙苡皓</td>\n",
       "      <td>boy</td>\n",
       "      <td>102.478</td>\n",
       "      <td>24.919</td>\n",
       "      <td>1990.0</td>\n",
       "    </tr>\n",
       "  </tbody>\n",
       "</table>\n",
       "</div>"
      ],
      "text/plain": [
       "  Name Gender  Longitude  Latitude  Elevation\n",
       "0  郑道旸    boy    117.730    39.030        2.0\n",
       "1  孙苡皓    boy    102.478    24.919     1990.0"
      ]
     },
     "execution_count": 17,
     "metadata": {},
     "output_type": "execute_result"
    }
   ],
   "source": [
    "students_2024_df = pd.DataFrame(\n",
    "    {\n",
    "        \"Name\":      [\"郑道旸\", \"孙苡皓\",   \"胡枭鑫\", \"杨琦佳\",  \"李根轩\",   \"周星宇\",  \"浦方州\",   \"段忠彬\",   \"李永旭\",   \"施珍敏\",   \"刘兴茹\",  \"李欣荣\",   \"成蔚\",    \"娄以佳\",   \"孔令娜\",   \"何哈优\",  \"郑静\",      \"袁婧\",   \"王显峰\",    \"李树萍\",   \"李佳宇\",   \"胡喜\",   \"杨韦嘉\",   \"石娜丽\",    \"洪阳\",    \"许人允\",   \"汪俊涵\",   \"邰新茹\"],\n",
    "        \"Gender\":    [\"boy\",   \"boy\",      \"boy\",    \"girl\",   \"boy\",     \"boy\",     \"boy\",      \"boy\",     \"boy\",     \"girl\",     \"girl\",   \"girl\",     \"girl\",    \"girl\",    \"girl\",    \"girl\",    \"girl\",     \"girl\",   \"boy\",      \"girl\",     \"boy\",     \"boy\",    \"girl\",    \"girl\",      \"boy\",    \"girl\",     \"boy\",     \"girl\"],\n",
    "        \"Longitude\": [117.730,  102.478,    104.642,   117.150,  98.530,   106.550,   120.270,    98.530,    115.433,   118.543,   120.193,   106.170,   103.707,   103.717,    100.250,   103.430,   118.880,   105.054,   98.521,     98.390,     106.547,   105.450,  109.080,    103.430,    98.916,   102.850,    103.368,    120.270],\n",
    "        \"Latitude\":  [39.030,   24.919,     28.752,    35.083,   24.398,   25.613,    30.188,     24.398,    37.583,    26.537,    35.904,    37.120,    27.320,    27.338,     26.860,    24.410,    28.920,    29.583,    24.397,     25.330,     29.564,    23.560,   24.850,     24.410,     26.330,   24.827,     23.966,     41.340],\n",
    "        \"Elevation\": [2,       1990,       321,        65.4,     876,      238,       10,         876,       46,        493,       25,        1200,      1685,      1685,       2400,      1450,      100,       387,       895,        1100,       238,       50,       913,        1450,       2500,     2008,       1118,       168],\n",
    "    }\n",
    ")\n",
    "students_2024_df.head(2)\n"
   ]
  },
  {
   "cell_type": "code",
   "execution_count": null,
   "metadata": {},
   "outputs": [],
   "source": [
    "students_2023_gdf = df2gpkg(students_df=students_2023_df)\n",
    "students_2024_gdf = df2gpkg(students_df=students_2024_df)\n",
    "# students_2023_gdf.to_file('students_homework/students/students_2023.gpkg', driver='GPKG')\n",
    "# students_2024_gdf.to_file('students_homework/students/students_2024.gpkg', driver='GPKG')\n"
   ]
  },
  {
   "cell_type": "markdown",
   "metadata": {},
   "source": [
    "#### add new columns to the china vector"
   ]
  },
  {
   "cell_type": "code",
   "execution_count": 53,
   "metadata": {},
   "outputs": [
    {
     "data": {
      "text/html": [
       "<div>\n",
       "<style scoped>\n",
       "    .dataframe tbody tr th:only-of-type {\n",
       "        vertical-align: middle;\n",
       "    }\n",
       "\n",
       "    .dataframe tbody tr th {\n",
       "        vertical-align: top;\n",
       "    }\n",
       "\n",
       "    .dataframe thead th {\n",
       "        text-align: right;\n",
       "    }\n",
       "</style>\n",
       "<table border=\"1\" class=\"dataframe\">\n",
       "  <thead>\n",
       "    <tr style=\"text-align: right;\">\n",
       "      <th></th>\n",
       "      <th>pr_adcode</th>\n",
       "      <th>pr_name</th>\n",
       "      <th>cn_adcode</th>\n",
       "      <th>cn_name</th>\n",
       "      <th>geometry</th>\n",
       "    </tr>\n",
       "  </thead>\n",
       "  <tbody>\n",
       "    <tr>\n",
       "      <th>0</th>\n",
       "      <td>110000</td>\n",
       "      <td>北京市</td>\n",
       "      <td>100000</td>\n",
       "      <td>中华人民共和国</td>\n",
       "      <td>MULTIPOLYGON (((116.89226 39.69491, 116.89227 ...</td>\n",
       "    </tr>\n",
       "    <tr>\n",
       "      <th>1</th>\n",
       "      <td>120000</td>\n",
       "      <td>天津市</td>\n",
       "      <td>100000</td>\n",
       "      <td>中华人民共和国</td>\n",
       "      <td>MULTIPOLYGON (((113.77712 36.63947, 113.78080 ...</td>\n",
       "    </tr>\n",
       "  </tbody>\n",
       "</table>\n",
       "</div>"
      ],
      "text/plain": [
       "  pr_adcode pr_name cn_adcode  cn_name  \\\n",
       "0    110000     北京市    100000  中华人民共和国   \n",
       "1    120000     天津市    100000  中华人民共和国   \n",
       "\n",
       "                                            geometry  \n",
       "0  MULTIPOLYGON (((116.89226 39.69491, 116.89227 ...  \n",
       "1  MULTIPOLYGON (((113.77712 36.63947, 113.78080 ...  "
      ]
     },
     "execution_count": 53,
     "metadata": {},
     "output_type": "execute_result"
    }
   ],
   "source": [
    "path_china = 'students_homework/students/china_province.gpkg'\n",
    "china = gpd.read_file(path_china)\n",
    "china.head(2)\n"
   ]
  },
  {
   "cell_type": "code",
   "execution_count": 58,
   "metadata": {},
   "outputs": [
    {
     "data": {
      "text/html": [
       "<div>\n",
       "<style scoped>\n",
       "    .dataframe tbody tr th:only-of-type {\n",
       "        vertical-align: middle;\n",
       "    }\n",
       "\n",
       "    .dataframe tbody tr th {\n",
       "        vertical-align: top;\n",
       "    }\n",
       "\n",
       "    .dataframe thead th {\n",
       "        text-align: right;\n",
       "    }\n",
       "</style>\n",
       "<table border=\"1\" class=\"dataframe\">\n",
       "  <thead>\n",
       "    <tr style=\"text-align: right;\">\n",
       "      <th></th>\n",
       "      <th>pr_adcode</th>\n",
       "      <th>pr_name</th>\n",
       "      <th>cn_adcode</th>\n",
       "      <th>cn_name</th>\n",
       "      <th>geometry</th>\n",
       "      <th>num_students_2023</th>\n",
       "      <th>num_students_2024</th>\n",
       "      <th>num_students_all</th>\n",
       "    </tr>\n",
       "  </thead>\n",
       "  <tbody>\n",
       "    <tr>\n",
       "      <th>0</th>\n",
       "      <td>110000</td>\n",
       "      <td>北京市</td>\n",
       "      <td>100000</td>\n",
       "      <td>中华人民共和国</td>\n",
       "      <td>MULTIPOLYGON (((116.89226 39.69491, 116.89227 ...</td>\n",
       "      <td>0</td>\n",
       "      <td>0</td>\n",
       "      <td>0</td>\n",
       "    </tr>\n",
       "    <tr>\n",
       "      <th>1</th>\n",
       "      <td>120000</td>\n",
       "      <td>天津市</td>\n",
       "      <td>100000</td>\n",
       "      <td>中华人民共和国</td>\n",
       "      <td>MULTIPOLYGON (((113.77712 36.63947, 113.78080 ...</td>\n",
       "      <td>0</td>\n",
       "      <td>1</td>\n",
       "      <td>1</td>\n",
       "    </tr>\n",
       "    <tr>\n",
       "      <th>2</th>\n",
       "      <td>130000</td>\n",
       "      <td>河北省</td>\n",
       "      <td>100000</td>\n",
       "      <td>中华人民共和国</td>\n",
       "      <td>MULTIPOLYGON (((113.56331 36.58910, 113.55295 ...</td>\n",
       "      <td>2</td>\n",
       "      <td>1</td>\n",
       "      <td>3</td>\n",
       "    </tr>\n",
       "  </tbody>\n",
       "</table>\n",
       "</div>"
      ],
      "text/plain": [
       "  pr_adcode pr_name cn_adcode  cn_name  \\\n",
       "0    110000     北京市    100000  中华人民共和国   \n",
       "1    120000     天津市    100000  中华人民共和国   \n",
       "2    130000     河北省    100000  中华人民共和国   \n",
       "\n",
       "                                            geometry  num_students_2023  \\\n",
       "0  MULTIPOLYGON (((116.89226 39.69491, 116.89227 ...                  0   \n",
       "1  MULTIPOLYGON (((113.77712 36.63947, 113.78080 ...                  0   \n",
       "2  MULTIPOLYGON (((113.56331 36.58910, 113.55295 ...                  2   \n",
       "\n",
       "   num_students_2024  num_students_all  \n",
       "0                  0                 0  \n",
       "1                  1                 1  \n",
       "2                  1                 3  "
      ]
     },
     "execution_count": 58,
     "metadata": {},
     "output_type": "execute_result"
    }
   ],
   "source": [
    "china_new = add_num_students(students_gdf=students_2023_gdf, china_gdf=china, column='num_students_2023')\n",
    "china_new = add_num_students(students_gdf=students_2024_gdf, china_gdf=china_new, column='num_students_2024')\n",
    "china_new['num_students_all'] = china_new['num_students_2023'] + china_new['num_students_2024']\n",
    "china_new.head(3)\n"
   ]
  },
  {
   "cell_type": "code",
   "execution_count": null,
   "metadata": {},
   "outputs": [],
   "source": [
    "# china_new.to_file('students_homework/students/china_province_new.gpkg', driver='GPKG')\n"
   ]
  },
  {
   "cell_type": "code",
   "execution_count": null,
   "metadata": {},
   "outputs": [],
   "source": [
    "\n",
    "\n"
   ]
  }
 ],
 "metadata": {
  "kernelspec": {
   "display_name": "venv",
   "language": "python",
   "name": "python3"
  },
  "language_info": {
   "codemirror_mode": {
    "name": "ipython",
    "version": 3
   },
   "file_extension": ".py",
   "mimetype": "text/x-python",
   "name": "python",
   "nbconvert_exporter": "python",
   "pygments_lexer": "ipython3",
   "version": "3.9.18"
  }
 },
 "nbformat": 4,
 "nbformat_minor": 2
}
