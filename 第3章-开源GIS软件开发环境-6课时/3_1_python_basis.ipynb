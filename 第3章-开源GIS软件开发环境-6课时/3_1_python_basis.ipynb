{
 "cells": [
  {
   "attachments": {},
   "cell_type": "markdown",
   "metadata": {},
   "source": [
    "### **Python编程风格介绍**\n"
   ]
  },
  {
   "attachments": {},
   "cell_type": "markdown",
   "metadata": {},
   "source": [
    "#### 1、基本数据类型\n",
    "python中7种数据类型：<u>Bool（布尔）、Number（数字）、String（字符串）、List（列表）、Dictionary（字典）</u>、Tuple（元组）、Set（集合）\n"
   ]
  },
  {
   "cell_type": "code",
   "execution_count": 1,
   "metadata": {},
   "outputs": [
    {
     "name": "stdout",
     "output_type": "stream",
     "text": [
      "<class 'bool'>\n",
      "<class 'int'>\n",
      "<class 'str'>\n",
      "<class 'list'>\n",
      "<class 'dict'>\n"
     ]
    }
   ],
   "source": [
    "print(type(True))\n",
    "print(type(1))\n",
    "print(type('hellow world'))\n",
    "print(type([18,28,15]))\n",
    "print(type({'小张': 80, '小李':85, '小周': 78}))\n"
   ]
  },
  {
   "attachments": {},
   "cell_type": "markdown",
   "metadata": {},
   "source": [
    "#### 2、变量与赋值"
   ]
  },
  {
   "cell_type": "code",
   "execution_count": 2,
   "metadata": {},
   "outputs": [
    {
     "name": "stdout",
     "output_type": "stream",
     "text": [
      "1 4\n",
      "2\n"
     ]
    }
   ],
   "source": [
    "a = 1\n",
    "b = 4 \n",
    "c = [1,2,3]\n",
    "print(a, b)\n",
    "print(c[1])\n"
   ]
  },
  {
   "attachments": {},
   "cell_type": "markdown",
   "metadata": {},
   "source": [
    "#### 3、条件判断\n",
    "##### python通过if-elif-else语句执行"
   ]
  },
  {
   "cell_type": "code",
   "execution_count": 3,
   "metadata": {},
   "outputs": [
    {
     "name": "stdout",
     "output_type": "stream",
     "text": [
      "成绩为差\n"
     ]
    }
   ],
   "source": [
    "### 判断成绩优（>=90），良（>=70,<90）,差（<70）\n",
    "score = 67\n",
    "if score >= 90:\n",
    "  print('成绩为优秀')\n",
    "elif score >= 70 and score<90:\n",
    "  print('成绩为良好')\n",
    "else :\n",
    "  print('成绩为差')\n",
    "\n"
   ]
  },
  {
   "attachments": {},
   "cell_type": "markdown",
   "metadata": {},
   "source": [
    "#### 4、循环"
   ]
  },
  {
   "cell_type": "code",
   "execution_count": 4,
   "metadata": {},
   "outputs": [
    {
     "name": "stdout",
     "output_type": "stream",
     "text": [
      "获得成绩为优秀的同学个数为： 4\n"
     ]
    }
   ],
   "source": [
    "### 获得成绩为优秀的同学个数\n",
    "scores=[70,76,84,83,94,91,93,79,81,90]\n",
    "num = 0\n",
    "for score in scores:\n",
    "  # print(score)\n",
    "  if score >= 90:\n",
    "    num=num+1\n",
    "print('获得成绩为优秀的同学个数为：', num)\n",
    "\n"
   ]
  },
  {
   "attachments": {},
   "cell_type": "markdown",
   "metadata": {},
   "source": [
    "#### 5、函数\n"
   ]
  },
  {
   "cell_type": "code",
   "execution_count": 7,
   "metadata": {},
   "outputs": [
    {
     "name": "stdout",
     "output_type": "stream",
     "text": [
      "超过给定分数的同学人数为： 7\n"
     ]
    }
   ],
   "source": [
    "### 自动统计出超出一给定分数的同学人数。\n",
    "scores=[70,76,84,83,94,91,93,79,81,90]\n",
    "def num_higher(s, s_high=90):\n",
    "  num = 0\n",
    "  for score in s:\n",
    "    # print(score)\n",
    "    if score >= s_high:\n",
    "      num=num+1\n",
    "  return num\n",
    "num = num_higher(s=scores, s_high=80)\n",
    "print('超过给定分数的同学人数为：', num)\n"
   ]
  },
  {
   "attachments": {},
   "cell_type": "markdown",
   "metadata": {},
   "source": [
    "#### 6、模块"
   ]
  },
  {
   "cell_type": "code",
   "execution_count": 10,
   "metadata": {},
   "outputs": [
    {
     "name": "stdout",
     "output_type": "stream",
     "text": [
      "超过给定分数的同学人数为： 7\n"
     ]
    }
   ],
   "source": [
    "# import os\n",
    "# os.chdir('D:\\open-source-gis-course/第3章-开源GIS软件开发环境-6课时')\n",
    "from python_module import num_higher_m\n",
    "scores=[70,76,84,83,94,91,93,79,81,90]\n",
    "num = num_higher_m(ss=scores, s=80)\n",
    "print('超过给定分数的同学人数为：', num)\n"
   ]
  },
  {
   "cell_type": "markdown",
   "metadata": {},
   "source": [
    "#### 7、软件包调用"
   ]
  },
  {
   "cell_type": "code",
   "execution_count": 11,
   "metadata": {},
   "outputs": [
    {
     "name": "stdout",
     "output_type": "stream",
     "text": [
      "[1 2 3 4 5]\n",
      "3.0\n"
     ]
    }
   ],
   "source": [
    "import numpy as np \n",
    "array = np.array([1,2,3,4,5])\n",
    "print(array)\n",
    "arr_mean = np.mean(array)\n",
    "print(arr_mean)\n"
   ]
  }
 ],
 "metadata": {
  "kernelspec": {
   "display_name": "venv",
   "language": "python",
   "name": "python3"
  },
  "language_info": {
   "codemirror_mode": {
    "name": "ipython",
    "version": 3
   },
   "file_extension": ".py",
   "mimetype": "text/x-python",
   "name": "python",
   "nbconvert_exporter": "python",
   "pygments_lexer": "ipython3",
   "version": "3.9.18"
  },
  "orig_nbformat": 4
 },
 "nbformat": 4,
 "nbformat_minor": 2
}
