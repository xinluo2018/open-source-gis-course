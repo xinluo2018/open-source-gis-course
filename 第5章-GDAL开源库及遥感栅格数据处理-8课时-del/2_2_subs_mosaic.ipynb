{
 "cells": [
  {
   "attachments": {},
   "cell_type": "markdown",
   "metadata": {},
   "source": [
    "### 实现影像的裁剪、拼接\n",
    "#### 1. 影像裁剪"
   ]
  },
  {
   "cell_type": "code",
   "execution_count": 3,
   "metadata": {},
   "outputs": [],
   "source": [
    "from osgeo import gdal\n",
    "import numpy as np\n"
   ]
  },
  {
   "cell_type": "code",
   "execution_count": 10,
   "metadata": {},
   "outputs": [],
   "source": [
    "path_img = 'data/Section-2/s2_kunming_chenggong_4bands_10m.tif'\n"
   ]
  },
  {
   "cell_type": "code",
   "execution_count": 11,
   "metadata": {},
   "outputs": [
    {
     "name": "stdout",
     "output_type": "stream",
     "text": [
      "geotrans: (268170.0, 10.0, 0.0, 2765450.0, 0.0, -10.0)\n",
      "extent: 268170.0 298130.0 2733210.0 2765450.0\n"
     ]
    }
   ],
   "source": [
    "dset = gdal.Open(path_img)\n",
    "geo_trans = dset.GetGeoTransform()            ### 地理转换参数\n",
    "print('geotrans:', geo_trans)\n",
    "x_min, y_max = geo_trans[0], geo_trans[3]     ### 左上角坐标\n",
    "x_res, y_res = geo_trans[1], geo_trans[5]\n",
    "x_max = geo_trans[0]+x_res*dset.RasterXSize\n",
    "y_min = geo_trans[3]+y_res*dset.RasterYSize\n",
    "print('extent:', x_min, x_max, y_min, y_max)\n"
   ]
  },
  {
   "cell_type": "code",
   "execution_count": 12,
   "metadata": {},
   "outputs": [],
   "source": [
    "### 设定裁剪范围\n",
    "x_min_subs, x_max_subs = 277175.0, 286133.0\n",
    "y_min_subs, y_max_subs = 2740200, 2750452.0\n"
   ]
  },
  {
   "cell_type": "markdown",
   "metadata": {},
   "source": [
    "#### 计算裁剪范围对应图像行列号\n"
   ]
  },
  {
   "cell_type": "code",
   "execution_count": 13,
   "metadata": {},
   "outputs": [
    {
     "name": "stdout",
     "output_type": "stream",
     "text": [
      "1499.8 900.5\n"
     ]
    }
   ],
   "source": [
    "col_start_subs = (x_min_subs - x_min)/x_res\n",
    "row_start_subs = (y_max_subs - y_max)/y_res\n",
    "print(row_start_subs, col_start_subs)\n"
   ]
  },
  {
   "cell_type": "code",
   "execution_count": 14,
   "metadata": {},
   "outputs": [
    {
     "name": "stdout",
     "output_type": "stream",
     "text": [
      "new start point of the image coordinate: 1500 900\n",
      "277170.0 2750450.0\n"
     ]
    }
   ],
   "source": [
    "### 裁剪影像起点行列号调整，及裁剪影像起点地理坐标调整\n",
    "row_start_subs_update, col_start_subs_update = round(row_start_subs), round(col_start_subs)\n",
    "print('new start point of the image coordinate:', row_start_subs_update, col_start_subs_update)\n",
    "### 更新裁剪范围起点地理坐标\n",
    "x_min_subs_update = x_min + col_start_subs_update*x_res\n",
    "y_max_subs_update = y_max + row_start_subs_update*y_res\n",
    "print(x_min_subs_update, y_max_subs_update)\n"
   ]
  },
  {
   "cell_type": "markdown",
   "metadata": {},
   "source": [
    "#### 计算裁剪影像尺寸"
   ]
  },
  {
   "cell_type": "code",
   "execution_count": 15,
   "metadata": {},
   "outputs": [
    {
     "name": "stdout",
     "output_type": "stream",
     "text": [
      "896.3 1025.0\n"
     ]
    }
   ],
   "source": [
    "x_size_subs = (x_max_subs-x_min_subs_update)/x_res\n",
    "y_size_subs = -(y_max_subs_update-y_min_subs)/y_res\n",
    "print(x_size_subs, y_size_subs)\n"
   ]
  },
  {
   "cell_type": "code",
   "execution_count": 16,
   "metadata": {},
   "outputs": [
    {
     "name": "stdout",
     "output_type": "stream",
     "text": [
      "896 1025\n"
     ]
    }
   ],
   "source": [
    "### 更新遥感影像尺寸\n",
    "x_size_subs_update, y_size_subs_update = round(x_size_subs), round(y_size_subs)\n",
    "print(x_size_subs_update, y_size_subs_update)\n"
   ]
  },
  {
   "cell_type": "markdown",
   "metadata": {},
   "source": [
    "#### 更新裁剪影像范围右下角点地理坐标"
   ]
  },
  {
   "cell_type": "code",
   "execution_count": 17,
   "metadata": {},
   "outputs": [
    {
     "name": "stdout",
     "output_type": "stream",
     "text": [
      "286130.0 2740200.0\n"
     ]
    }
   ],
   "source": [
    "x_max_subs_update = x_min_subs_update + x_size_subs_update*x_res\n",
    "y_min_subs_update = y_max_subs_update + y_size_subs_update*y_res\n",
    "print(x_max_subs_update, y_min_subs_update)\n"
   ]
  },
  {
   "cell_type": "code",
   "execution_count": 18,
   "metadata": {},
   "outputs": [
    {
     "name": "stdout",
     "output_type": "stream",
     "text": [
      "new extent: [277170.0, 286130.0, 2740200.0, 2750450.0]\n"
     ]
    }
   ],
   "source": [
    "extent_subs_update = [x_min_subs_update, x_max_subs_update, y_min_subs_update, y_max_subs_update]  #\n",
    "print('new extent:', extent_subs_update)\n"
   ]
  },
  {
   "cell_type": "markdown",
   "metadata": {},
   "source": [
    "#### 裁剪影像地理转换参数确定"
   ]
  },
  {
   "cell_type": "code",
   "execution_count": 19,
   "metadata": {},
   "outputs": [
    {
     "data": {
      "text/plain": [
       "[277170.0, 10.0, 0, 2750450.0, 0, -10.0]"
      ]
     },
     "execution_count": 19,
     "metadata": {},
     "output_type": "execute_result"
    }
   ],
   "source": [
    "geotrans_subs = [x_min_subs_update, x_res, 0, y_max_subs_update, 0, y_res]\n",
    "geotrans_subs\n"
   ]
  },
  {
   "cell_type": "markdown",
   "metadata": {},
   "source": [
    "#### 影像裁剪"
   ]
  },
  {
   "cell_type": "code",
   "execution_count": 20,
   "metadata": {},
   "outputs": [
    {
     "name": "stdout",
     "output_type": "stream",
     "text": [
      "(4, 3224, 2996)\n"
     ]
    }
   ],
   "source": [
    "### 获取裁剪影像数组\n",
    "img_array = dset.ReadAsArray()\n",
    "print(img_array.shape)          ### （波段数，行，列) -> (波段数,y,x)\n"
   ]
  },
  {
   "cell_type": "code",
   "execution_count": 21,
   "metadata": {},
   "outputs": [
    {
     "name": "stdout",
     "output_type": "stream",
     "text": [
      "(4, 1025, 896)\n"
     ]
    }
   ],
   "source": [
    "### 获取裁剪影像数组\n",
    "### 设定x,y方向上裁剪影像和原始影像左上角像元个数差异为0，709，获得裁剪影像数组\n",
    "img_array_subs = img_array[:, \n",
    "                           row_start_subs_update:row_start_subs_update+y_size_subs_update, \n",
    "                           col_start_subs_update:col_start_subs_update+x_size_subs_update]\n",
    "print(img_array_subs.shape)\n"
   ]
  },
  {
   "cell_type": "code",
   "execution_count": 22,
   "metadata": {},
   "outputs": [],
   "source": [
    "path_subs = 'data/Section-5/s2_kunming_chenggong_4bands_10m_subs.tif'\n",
    "driver = gdal.GetDriverByName('GTiff')\n",
    "dset_subs = driver.Create(path_subs, \n",
    "                        xsize = x_size_subs_update, \n",
    "                        ysize = y_size_subs_update, \n",
    "                        bands=dset.RasterCount, \n",
    "                        eType=gdal.GDT_Int16)\n",
    "dset_subs.SetGeoTransform(geotrans_subs)\n",
    "dset_subs.SetProjection(dset.GetProjection())\n",
    "for i in range(dset.RasterCount):\n",
    "    outband = dset_subs.GetRasterBand(i+1)       ### 获取波段1\n",
    "    outband.WriteArray(img_array_subs[i])        ### 将np.array()数组写入波段1\n",
    "dset_subs = None\n"
   ]
  },
  {
   "cell_type": "markdown",
   "metadata": {},
   "source": [
    "思考：坚持不调整范围，可否进行裁剪？   \n",
    "练习：设置不同子区域对10米分辨率影像进行裁剪，为后续影像拼接实验作准备。\n",
    "\n"
   ]
  },
  {
   "attachments": {},
   "cell_type": "markdown",
   "metadata": {},
   "source": [
    "#### 2. 影像拼接\n",
    "数据准备：呈贡区两幅相同分辨率相同投影影像（理想情况）。\n"
   ]
  },
  {
   "cell_type": "code",
   "execution_count": 1,
   "metadata": {},
   "outputs": [],
   "source": [
    "path_img_1 = 'data/Section-5/s2_kunming_chenggong_4bands_10m_subs.tif'\n",
    "path_img_2 = 'data/Section-5/s2_kunming_chenggong_4bands_10m_subs_2.tif'\n"
   ]
  },
  {
   "cell_type": "code",
   "execution_count": 4,
   "metadata": {},
   "outputs": [
    {
     "name": "stdout",
     "output_type": "stream",
     "text": [
      "subs1: (277170.0, 10.0, 0.0, 2750450.0, 0.0, -10.0)\n",
      "subs2: (273170.0, 10.0, 0.0, 2759450.0, 0.0, -10.0)\n",
      "277170.0 2750450.0\n",
      "273170.0 2759450.0\n"
     ]
    }
   ],
   "source": [
    "dset_subs1 = gdal.Open(path_img_1)\n",
    "dset_subs2 = gdal.Open(path_img_2)\n",
    "geo_trans_subs1 = dset_subs1.GetGeoTransform()        ### 地理转换参数\n",
    "geo_trans_subs2 = dset_subs2.GetGeoTransform()        ### 地理转换参数\n",
    "print('subs1:', geo_trans_subs1)\n",
    "print('subs2:', geo_trans_subs2)\n",
    "x_min_subs1 = geo_trans_subs1[0]\n",
    "y_max_subs1 = geo_trans_subs1[3]\n",
    "x_min_subs2 = geo_trans_subs2[0]\n",
    "y_max_subs2 = geo_trans_subs2[3]\n",
    "print(x_min_subs1, y_max_subs1)\n",
    "print(x_min_subs2, y_max_subs2)\n"
   ]
  },
  {
   "cell_type": "code",
   "execution_count": 5,
   "metadata": {},
   "outputs": [
    {
     "name": "stdout",
     "output_type": "stream",
     "text": [
      "extent_subs1: 277170.0 286130.0 2740200.0 2750450.0\n",
      "extent_subs2: 273170.0 280130.0 2748200.0 2759450.0\n"
     ]
    }
   ],
   "source": [
    "x_max_subs1 = x_min_subs1 + dset_subs1.RasterXSize * geo_trans_subs1[1]\n",
    "y_min_subs1 = y_max_subs1 + dset_subs1.RasterYSize * geo_trans_subs1[5]\n",
    "print('extent_subs1:', x_min_subs1, x_max_subs1, y_min_subs1, y_max_subs1)\n",
    "x_max_subs2 = x_min_subs2 + dset_subs2.RasterXSize * geo_trans_subs2[1]\n",
    "y_min_subs2 = y_max_subs2 + dset_subs2.RasterYSize * geo_trans_subs2[5]\n",
    "print('extent_subs2:', x_min_subs2, x_max_subs2, y_min_subs2, y_max_subs2)\n"
   ]
  },
  {
   "cell_type": "code",
   "execution_count": 6,
   "metadata": {},
   "outputs": [
    {
     "name": "stdout",
     "output_type": "stream",
     "text": [
      "拼接影像范围： [273170.0, 286130.0, 2740200.0, 2740200.0]\n"
     ]
    }
   ],
   "source": [
    "x_max_mosaic = max(x_max_subs1, x_max_subs2)\n",
    "x_min_mosaic = min(x_min_subs1, x_min_subs2)\n",
    "y_max_mosaic = max(y_max_subs1, y_max_subs2)\n",
    "y_min_mosaic = min(y_min_subs1, y_min_subs2)\n",
    "extent_mosaic = [x_min_mosaic, x_max_mosaic, y_min_mosaic, y_min_mosaic]\n",
    "print('拼接影像范围：', extent_mosaic)\n"
   ]
  },
  {
   "cell_type": "code",
   "execution_count": 7,
   "metadata": {},
   "outputs": [
    {
     "name": "stdout",
     "output_type": "stream",
     "text": [
      "10.0 -10.0\n"
     ]
    }
   ],
   "source": [
    "### 定义拼接影像分辨率（采用拼接影像subs1分辨率）\n",
    "x_res_mosaic, y_res_mosaic = geo_trans_subs1[1], geo_trans_subs1[5]\n",
    "print(x_res_mosaic, y_res_mosaic)\n"
   ]
  },
  {
   "cell_type": "code",
   "execution_count": 8,
   "metadata": {},
   "outputs": [
    {
     "name": "stdout",
     "output_type": "stream",
     "text": [
      "1296.0 1925.0\n"
     ]
    }
   ],
   "source": [
    "x_size_mosaic = (x_max_mosaic - x_min_mosaic)/x_res_mosaic\n",
    "y_size_mosaic = abs((y_max_mosaic - y_min_mosaic)/y_res_mosaic)\n",
    "print(x_size_mosaic, y_size_mosaic)\n"
   ]
  },
  {
   "cell_type": "code",
   "execution_count": 9,
   "metadata": {},
   "outputs": [],
   "source": [
    "### 取整\n",
    "x_size_mosaic, y_size_mosaic = int(x_size_mosaic), int(y_size_mosaic)\n"
   ]
  },
  {
   "cell_type": "code",
   "execution_count": 10,
   "metadata": {},
   "outputs": [
    {
     "data": {
      "text/plain": [
       "[273170.0, 10.0, 0, 2759450.0, 0, -10.0]"
      ]
     },
     "execution_count": 10,
     "metadata": {},
     "output_type": "execute_result"
    }
   ],
   "source": [
    "### 获得拼接影像地理转换参数\n",
    "geotrans_mosaic = [x_min_mosaic, x_res_mosaic, 0, y_max_mosaic, 0, y_res_mosaic]\n",
    "geotrans_mosaic\n"
   ]
  },
  {
   "cell_type": "code",
   "execution_count": 11,
   "metadata": {},
   "outputs": [
    {
     "data": {
      "text/plain": [
       "(4, 1925, 1296)"
      ]
     },
     "execution_count": 11,
     "metadata": {},
     "output_type": "execute_result"
    }
   ],
   "source": [
    "### 建立空数组\n",
    "img_array_mosaic = np.zeros(shape=(dset_subs1.RasterCount, y_size_mosaic, x_size_mosaic))\n",
    "img_array_mosaic.shape\n"
   ]
  },
  {
   "cell_type": "code",
   "execution_count": 14,
   "metadata": {},
   "outputs": [
    {
     "name": "stdout",
     "output_type": "stream",
     "text": [
      "900 400\n",
      "0 0\n"
     ]
    }
   ],
   "source": [
    "### 待拼接影像起点在拼接影像上位置\n",
    "### subs1\n",
    "row_start_subs1 = int((y_max_subs1 - y_max_mosaic)/y_res_mosaic)\n",
    "col_start_subs1 = int((x_min_subs1 - x_min_mosaic)/x_res_mosaic)\n",
    "print(row_start_subs1, col_start_subs1)\n",
    "img_array_mosaic[:, row_start_subs1:row_start_subs1+dset_subs1.RasterYSize, \\\n",
    "                 col_start_subs1:col_start_subs1+dset_subs1.RasterXSize] = dset_subs1.ReadAsArray()\n",
    "\n",
    "### subs2\n",
    "row_start_subs2 = int((y_max_subs2 - y_max_mosaic)/y_res_mosaic)\n",
    "col_start_subs2 = int((x_min_subs2 - x_min_mosaic)/x_res_mosaic)\n",
    "print(row_start_subs2, col_start_subs2)\n",
    "img_array_mosaic[:, row_start_subs2:row_start_subs2+dset_subs2.RasterYSize, \\\n",
    "                 col_start_subs2:col_start_subs2+dset_subs2.RasterXSize] = dset_subs2.ReadAsArray()\n"
   ]
  },
  {
   "cell_type": "markdown",
   "metadata": {},
   "source": [
    "#### 写出拼接影像"
   ]
  },
  {
   "cell_type": "code",
   "execution_count": 49,
   "metadata": {},
   "outputs": [],
   "source": [
    "path_mosaic = 'data/Section-5/s2_kunming_chenggong_4bands_10m_subs_mosaic.tif'\n",
    "driver = gdal.GetDriverByName('GTiff')\n",
    "dset_mosaic = driver.Create(path_mosaic, \n",
    "                            xsize = x_size_mosaic, \n",
    "                            ysize = y_size_mosaic, \n",
    "                            bands=dset_subs1.RasterCount, \n",
    "                            eType=gdal.GDT_Int16)\n",
    "dset_mosaic.SetGeoTransform(geotrans_mosaic)\n",
    "dset_mosaic.SetProjection(dset_subs1.GetProjection())\n",
    "\n",
    "for i in range(dset_subs1.RasterCount):\n",
    "    outband = dset_mosaic.GetRasterBand(i+1)       ### 获取波段1\n",
    "    outband.WriteArray(img_array_mosaic[i])        ### 将np.array()数组写入波段1\n",
    "dset_mosaic = None\n"
   ]
  },
  {
   "cell_type": "code",
   "execution_count": null,
   "metadata": {},
   "outputs": [],
   "source": [
    "\n",
    "\n",
    "\n"
   ]
  }
 ],
 "metadata": {
  "kernelspec": {
   "display_name": "venv",
   "language": "python",
   "name": "python3"
  },
  "language_info": {
   "codemirror_mode": {
    "name": "ipython",
    "version": 3
   },
   "file_extension": ".py",
   "mimetype": "text/x-python",
   "name": "python",
   "nbconvert_exporter": "python",
   "pygments_lexer": "ipython3",
   "version": "3.9.18"
  },
  "orig_nbformat": 4
 },
 "nbformat": 4,
 "nbformat_minor": 2
}
