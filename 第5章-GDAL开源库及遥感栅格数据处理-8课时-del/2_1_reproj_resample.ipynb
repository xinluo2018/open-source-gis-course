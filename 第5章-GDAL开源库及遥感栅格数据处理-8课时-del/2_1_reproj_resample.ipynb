{
 "cells": [
  {
   "attachments": {},
   "cell_type": "markdown",
   "metadata": {},
   "source": [
    "**利用gdal开源库进行栅格文件处理**\n"
   ]
  },
  {
   "cell_type": "code",
   "execution_count": 13,
   "metadata": {},
   "outputs": [],
   "source": [
    "from osgeo import gdal, osr\n"
   ]
  },
  {
   "attachments": {},
   "cell_type": "markdown",
   "metadata": {},
   "source": [
    "1. 重投影"
   ]
  },
  {
   "cell_type": "code",
   "execution_count": 14,
   "metadata": {},
   "outputs": [],
   "source": [
    "path_img = 'data/Section-2/s2_kunming_chenggong_4bands_10m.tif'\n",
    "path_reproj = 'data/Section-5/s2_kunming_chenggong_4bands_10m_wgs84.tif'\n"
   ]
  },
  {
   "cell_type": "code",
   "execution_count": 15,
   "metadata": {},
   "outputs": [
    {
     "name": "stdout",
     "output_type": "stream",
     "text": [
      "projection: PROJCS[\"WGS 84 / UTM zone 48N\",GEOGCS[\"WGS 84\",DATUM[\"WGS_1984\",SPHEROID[\"WGS 84\",6378137,298.257223563,AUTHORITY[\"EPSG\",\"7030\"]],AUTHORITY[\"EPSG\",\"6326\"]],PRIMEM[\"Greenwich\",0,AUTHORITY[\"EPSG\",\"8901\"]],UNIT[\"degree\",0.0174532925199433,AUTHORITY[\"EPSG\",\"9122\"]],AUTHORITY[\"EPSG\",\"4326\"]],PROJECTION[\"Transverse_Mercator\"],PARAMETER[\"latitude_of_origin\",0],PARAMETER[\"central_meridian\",105],PARAMETER[\"scale_factor\",0.9996],PARAMETER[\"false_easting\",500000],PARAMETER[\"false_northing\",0],UNIT[\"metre\",1,AUTHORITY[\"EPSG\",\"9001\"]],AXIS[\"Easting\",EAST],AXIS[\"Northing\",NORTH],AUTHORITY[\"EPSG\",\"32648\"]]\n"
     ]
    }
   ],
   "source": [
    "## 读入栅格数据，包括影像信息和地理信息\n",
    "dset = gdal.Open(path_img)\n",
    "proj = dset.GetProjection()    ### 获取影像投影\n",
    "print('projection:', proj)     ### wkt格式投影表达\n"
   ]
  },
  {
   "cell_type": "code",
   "execution_count": 16,
   "metadata": {},
   "outputs": [
    {
     "data": {
      "text/plain": [
       "0"
      ]
     },
     "execution_count": 16,
     "metadata": {},
     "output_type": "execute_result"
    }
   ],
   "source": [
    "### 左上角utm坐标计算, 及utm投影下影像范围\n",
    "## 定义空间参考\n",
    "utm_epsg = 32648\n",
    "wgs84_epsg = 4326\n",
    "utm = osr.SpatialReference(); \n",
    "utm.ImportFromEPSG(utm_epsg)        ## 定义空间参考\n",
    "wgs84 = osr.SpatialReference(); \n",
    "wgs84.ImportFromEPSG(wgs84_epsg)    ## 定义空间参考\n"
   ]
  },
  {
   "cell_type": "code",
   "execution_count": 17,
   "metadata": {},
   "outputs": [
    {
     "name": "stdout",
     "output_type": "stream",
     "text": [
      "268170.0 2765450.0\n",
      "the left-up coordinate of the wgs84 projection: 102.70324341425528 24.98680372054124\n",
      "103.00458005060858 24.700098045073705\n",
      "0.00010057965165330377 8.89285593881929e-05\n"
     ]
    }
   ],
   "source": [
    "### 投影转换后像元尺寸（分辨率）计算\n",
    "## 获得空间参考转换后角点坐标\n",
    "wgs84.SetAxisMappingStrategy(osr.OAMS_TRADITIONAL_GIS_ORDER)  ### 注意！设置坐标转换输出次序:（x, y）\n",
    "transform = osr.CoordinateTransformation(utm, wgs84)    ### 空间参考转换对象\n",
    "geo_trans = dset.GetGeoTransform()   ### 地理转换参数\n",
    "print(geo_trans[0], geo_trans[3])    ### 左上角x,y坐标\n",
    "(x_min_wgs84, y_max_wgs84, z) = transform.TransformPoint(geo_trans[0], geo_trans[3], 0)  ## 输入参数为(经度，纬度，高程）, 输出参数为（x，y），注意顺序\n",
    "print('the left-up coordinate of the wgs84 projection:', x_min_wgs84, y_max_wgs84)\n",
    "x_max_utm = geo_trans[0]+geo_trans[1]*dset.RasterXSize   ## x方向最大值\n",
    "y_min_utm = geo_trans[3]+geo_trans[5]*dset.RasterYSize   ## y方向最小值\n",
    "(x_max_wgs84, y_min_wgs84, z) = transform.TransformPoint(x_max_utm, y_min_utm, 0)  ## 输入参数为(x，y), 输出参数为（x，y），注意顺序\n",
    "print(x_max_wgs84, y_min_wgs84)\n",
    "## 计算空间参考转换后像元尺寸\n",
    "width_pixel = (x_max_wgs84-x_min_wgs84)/dset.RasterXSize\n",
    "height_pixel = (y_max_wgs84-y_min_wgs84)/dset.RasterYSize\n",
    "print(width_pixel, height_pixel)\n"
   ]
  },
  {
   "cell_type": "code",
   "execution_count": 18,
   "metadata": {},
   "outputs": [],
   "source": [
    "### 定义新的转换参数和投影\n",
    "#### 1. 新的转换参数, 注意像元高度为负数\n",
    "geotrans_wgs84 = (102.70324341425528, 0.00010057965165330377, 0.0, 24.98680372054124, 0, -8.89285593881929e-05)\n",
    "#### 2. 新的投影\n",
    "proj_utm_wkt = utm.ExportToWkt()\n",
    "proj_wgs84_wkt = wgs84.ExportToWkt()\n",
    "\n"
   ]
  },
  {
   "cell_type": "code",
   "execution_count": 19,
   "metadata": {},
   "outputs": [],
   "source": [
    "### 定义数据驱动\n",
    "driver = gdal.GetDriverByName('GTiff')\n",
    "### 创建写出数据\n",
    "dset_wgs84 = driver.Create(path_reproj, xsize=dset.RasterXSize, \\\n",
    "                                    ysize=dset.RasterYSize, \\\n",
    "                                    bands=dset.RasterCount, \\\n",
    "                                    eType=gdal.GDT_Int16)\n",
    "dset_wgs84.SetGeoTransform(geotrans_wgs84)\n",
    "dset_wgs84.SetProjection(proj_wgs84_wkt)\n",
    "\n",
    "## 影像重投影\n",
    "reproj = gdal.ReprojectImage(src_ds=dset, \\\n",
    "                            dst_ds=dset_wgs84, \\\n",
    "                            src_wkt=proj_utm_wkt, \\\n",
    "                            dst_wkt=proj_wgs84_wkt,\n",
    "                            eResampleAlg=gdal.GRA_Bilinear)\n",
    "dset_wgs84 = None  ## 关闭文件\n",
    "\n"
   ]
  },
  {
   "attachments": {},
   "cell_type": "markdown",
   "metadata": {},
   "source": [
    "2. 重采样"
   ]
  },
  {
   "cell_type": "code",
   "execution_count": 20,
   "metadata": {},
   "outputs": [],
   "source": [
    "path_resam = 'data/Section-5/s2_kunming_chenggong_4bands_10m_resam25m.tif'\n",
    "res=25  ## 定义分辨率\n"
   ]
  },
  {
   "cell_type": "code",
   "execution_count": 21,
   "metadata": {},
   "outputs": [
    {
     "name": "stdout",
     "output_type": "stream",
     "text": [
      "(268170.0, 2765450.0) (298130.0, 2733210.0)\n"
     ]
    }
   ],
   "source": [
    "dset = gdal.Open(path_img)\n",
    "geo_trans = dset.GetGeoTransform()\n",
    "x_min, y_max = geo_trans[0], geo_trans[3]\n",
    "x_max = x_min + geo_trans[1]*dset.RasterXSize\n",
    "y_min = y_max + geo_trans[5]*dset.RasterYSize\n",
    "print((x_min, y_max), (x_max, y_min))\n"
   ]
  },
  {
   "cell_type": "code",
   "execution_count": 22,
   "metadata": {},
   "outputs": [
    {
     "name": "stdout",
     "output_type": "stream",
     "text": [
      "1198.4 1289.6\n",
      "1198 1290\n"
     ]
    }
   ],
   "source": [
    "### 1.计算影像尺寸\n",
    "x_size = (x_max - x_min)/res  ## x方向尺寸\n",
    "y_size = (y_max - y_min)/res   ## y方向尺寸\n",
    "print(x_size, y_size)\n",
    "x_size_update, y_size_update = round(x_size), round(y_size)\n",
    "print(x_size_update, y_size_update)\n"
   ]
  },
  {
   "cell_type": "code",
   "execution_count": 23,
   "metadata": {},
   "outputs": [],
   "source": [
    "### 3. 定义地理转换参数\n",
    "geotrans_resample = (268170.0, res, 0, 2765450.0, 0, -res)\n"
   ]
  },
  {
   "cell_type": "code",
   "execution_count": 24,
   "metadata": {},
   "outputs": [],
   "source": [
    "driver = gdal.GetDriverByName('GTiff')\n",
    "dset_resam = driver.Create(path_resam, xsize=x_size_update, \\\n",
    "                                ysize=y_size_update, \\\n",
    "                                bands=dset.RasterCount, \\\n",
    "                                eType=gdal.GDT_Int16)\n",
    "dset_resam.SetGeoTransform(geotrans_resample)\n",
    "dset_resam.SetProjection(dset.GetProjection())\n",
    "## 影像重投影\n",
    "reproj = gdal.ReprojectImage(src_ds=dset, \\\n",
    "                             dst_ds=dset_resam, \\\n",
    "                            eResampleAlg=gdal.GRA_Bilinear)\n",
    "dset_resam = None  ## 关闭文件\n"
   ]
  },
  {
   "cell_type": "markdown",
   "metadata": {},
   "source": [
    "思考：检查重采样影像空间范围，是否发生变化，为什么？"
   ]
  }
 ],
 "metadata": {
  "kernelspec": {
   "display_name": "venv",
   "language": "python",
   "name": "python3"
  },
  "language_info": {
   "codemirror_mode": {
    "name": "ipython",
    "version": 3
   },
   "file_extension": ".py",
   "mimetype": "text/x-python",
   "name": "python",
   "nbconvert_exporter": "python",
   "pygments_lexer": "ipython3",
   "version": "3.9.18"
  },
  "orig_nbformat": 4
 },
 "nbformat": 4,
 "nbformat_minor": 2
}
