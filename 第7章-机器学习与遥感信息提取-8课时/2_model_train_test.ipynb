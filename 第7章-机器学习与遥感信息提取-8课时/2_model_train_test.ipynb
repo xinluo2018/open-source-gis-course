{
 "cells": [
  {
   "cell_type": "markdown",
   "metadata": {},
   "source": [
    "#### 机器学习模型训练"
   ]
  },
  {
   "cell_type": "code",
   "execution_count": 33,
   "metadata": {},
   "outputs": [],
   "source": [
    "from sklearn.ensemble import RandomForestClassifier\n",
    "from sklearn.metrics import accuracy_score, recall_score, precision_score  ## precision和recall对应用户精度和生产者精度。\n",
    "from sklearn.model_selection import train_test_split\n",
    "import numpy as np\n"
   ]
  },
  {
   "cell_type": "code",
   "execution_count": 34,
   "metadata": {},
   "outputs": [
    {
     "data": {
      "text/plain": [
       "(480, 7)"
      ]
     },
     "execution_count": 34,
     "metadata": {},
     "output_type": "execute_result"
    }
   ],
   "source": [
    "path_numpy = 'data/Section-7/sams_array.npy'\n",
    "sams = np.load(path_numpy)\n",
    "sams_fea, sams_label = sams[:, 0:6], sams[:, 6]\n",
    "sams.shape\n"
   ]
  },
  {
   "cell_type": "code",
   "execution_count": 35,
   "metadata": {},
   "outputs": [],
   "source": [
    "### 数据标准化\n",
    "### 对于某些对特征值尺度较为敏感的算法，如SVM算法、神经网络算法等。需进行特征值归一化。\n",
    "sams_fea = sams_fea/(10000-0)   ### 该处标准化参数应与模型分类时数据标准化参数一致。\n"
   ]
  },
  {
   "cell_type": "markdown",
   "metadata": {},
   "source": [
    "##### 数据集划分：训练集和测试集"
   ]
  },
  {
   "cell_type": "code",
   "execution_count": 36,
   "metadata": {},
   "outputs": [
    {
     "name": "stdout",
     "output_type": "stream",
     "text": [
      "(336, 6)\n",
      "(144, 6)\n"
     ]
    },
    {
     "data": {
      "text/plain": [
       "array([[0.    , 0.    , 0.    , 0.    , 0.    , 0.    ],\n",
       "       [0.1278, 0.1279, 0.1206, 0.115 , 0.1148, 0.1117],\n",
       "       [0.1619, 0.1867, 0.1638, 0.1439, 0.1154, 0.113 ],\n",
       "       ...,\n",
       "       [0.    , 0.    , 0.    , 0.    , 0.    , 0.    ],\n",
       "       [0.    , 0.    , 0.    , 0.    , 0.    , 0.    ],\n",
       "       [0.1399, 0.1508, 0.1298, 0.1075, 0.1075, 0.1076]])"
      ]
     },
     "execution_count": 36,
     "metadata": {},
     "output_type": "execute_result"
    }
   ],
   "source": [
    "### 数据集随机划分：训练集、测试集\n",
    "X_train, X_test, y_train, y_test = train_test_split(sams_fea, sams_label, test_size=0.3, random_state=42)\n",
    "print(X_train.shape)\n",
    "print(X_test.shape)\n",
    "X_train\n"
   ]
  },
  {
   "cell_type": "markdown",
   "metadata": {},
   "source": [
    "##### 模型构建、评估及训练"
   ]
  },
  {
   "cell_type": "code",
   "execution_count": 37,
   "metadata": {},
   "outputs": [],
   "source": [
    "## 模型构建，设置参数（最优参数应通过格网寻优获得，该课程统一采用默认参数）。\n",
    "model_rf = RandomForestClassifier(random_state=42)\n",
    "# model_svc = SVC(random_state=42)\n"
   ]
  },
  {
   "cell_type": "code",
   "execution_count": 38,
   "metadata": {},
   "outputs": [],
   "source": [
    "### 模型训练, 应用训练样本\n",
    "model_rf = model_rf.fit(X=X_train, y=y_train)\n",
    "\n"
   ]
  },
  {
   "cell_type": "markdown",
   "metadata": {},
   "source": [
    "##### 模型预测及精度评估"
   ]
  },
  {
   "cell_type": "code",
   "execution_count": 40,
   "metadata": {},
   "outputs": [],
   "source": [
    "y_test_pred = model_rf.predict(X_test)\n"
   ]
  },
  {
   "cell_type": "code",
   "execution_count": 41,
   "metadata": {},
   "outputs": [
    {
     "data": {
      "text/plain": [
       "array([[78,  0],\n",
       "       [ 0, 66]], dtype=int64)"
      ]
     },
     "execution_count": 41,
     "metadata": {},
     "output_type": "execute_result"
    }
   ],
   "source": [
    "### 绘制混淆矩阵\n",
    "from sklearn.metrics import confusion_matrix\n",
    "confusion_matrix(y_true=y_test, \n",
    "                 y_pred=y_test_pred,\n",
    "                 labels=[0, 1])\n"
   ]
  },
  {
   "cell_type": "code",
   "execution_count": 42,
   "metadata": {},
   "outputs": [
    {
     "name": "stdout",
     "output_type": "stream",
     "text": [
      "overall accuracy: 1.0\n",
      "precision scores: [1. 1.]\n",
      "recall scores: [1. 1.]\n"
     ]
    }
   ],
   "source": [
    "### precision对应用户精度，recall对应生产者精度。\n",
    "oa = accuracy_score(y_true=y_test, y_pred=y_test_pred) ### 全局精度(测试集)\n",
    "precision = precision_score(y_true=y_test, y_pred=y_test_pred, average=None)  ## 精确度：用户精度\n",
    "recall = recall_score(y_true=y_test, y_pred=y_test_pred, average=None)  ### 召回率：生产者精度\n",
    "print('overall accuracy:', oa)\n",
    "print('precision scores:', precision)\n",
    "print('recall scores:', recall)\n"
   ]
  },
  {
   "cell_type": "code",
   "execution_count": null,
   "metadata": {},
   "outputs": [],
   "source": [
    "# ### 模型保存\n",
    "# import pickle\n",
    "# path_model = 'data/Section-7/model_rf.pickle'\n",
    "# with open(path_model, 'wb') as file:\n",
    "#   pickle.dump(model_rf, file)\n"
   ]
  },
  {
   "cell_type": "code",
   "execution_count": null,
   "metadata": {},
   "outputs": [],
   "source": [
    "\n",
    "\n",
    "\n"
   ]
  }
 ],
 "metadata": {
  "kernelspec": {
   "display_name": "venv",
   "language": "python",
   "name": "python3"
  },
  "language_info": {
   "codemirror_mode": {
    "name": "ipython",
    "version": 3
   },
   "file_extension": ".py",
   "mimetype": "text/x-python",
   "name": "python",
   "nbconvert_exporter": "python",
   "pygments_lexer": "ipython3",
   "version": "3.9.18"
  }
 },
 "nbformat": 4,
 "nbformat_minor": 2
}
